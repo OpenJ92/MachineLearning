{
 "cells": [
  {
   "cell_type": "code",
   "execution_count": 1,
   "metadata": {},
   "outputs": [],
   "source": [
    "from Helper.Load.classification import Classification\n",
    "from Helper.Transform.Transform.classification import Classificaton_Transform\n",
    "from Helper.Train.Train import Train\n",
    "from Helper.Transform.Custom.nominal import _Arithmetic_Transformer, _Identity\n",
    "\n",
    "from sklearn.ensemble import AdaBoostClassifier\n",
    "from sklearn.decomposition import PCA\n",
    "from sklearn.discriminant_analysis import LinearDiscriminantAnalysis\n",
    "from sklearn.naive_bayes import GaussianNB\n",
    "from sklearn.gaussian_process import GaussianProcessClassifier\n",
    "from sklearn.gaussian_process.kernels import RBF\n",
    "from sklearn.ensemble import RandomForestClassifier\n",
    "from sklearn.svm import SVC\n",
    "\n",
    "import numpy as np\n",
    "import pandas as pd\n",
    "\n",
    "import warnings\n",
    "warnings.filterwarnings('ignore')"
   ]
  },
  {
   "cell_type": "code",
   "execution_count": 2,
   "metadata": {},
   "outputs": [],
   "source": [
    "loadC = Classification(\"Data\", \"connect-4.dat\", \"connect-4-names.txt\")\n",
    "#loadVC(loadC)\n",
    "\n",
    "from columns import Column_\n",
    "transformC = Classificaton_Transform(loadC, Column_, PCA)\n",
    "#transformVC(transformC)\n",
    "\n",
    "from hyperparameters import hyperparameters\n",
    "trainC = Train(loadC, RandomForestClassifier(), transformC, hyperparameters)"
   ]
  },
  {
   "cell_type": "code",
   "execution_count": 3,
   "metadata": {},
   "outputs": [
    {
     "data": {
      "text/plain": [
       "array([[ 0.50223175, -1.10802341],\n",
       "       [ 1.1125933 ,  0.56246011],\n",
       "       [ 0.58539849,  0.22176509],\n",
       "       ...,\n",
       "       [-0.08526382,  2.20651047],\n",
       "       [ 0.47303346, -1.25794246],\n",
       "       [-0.70147735, -0.63129233]])"
      ]
     },
     "execution_count": 3,
     "metadata": {},
     "output_type": "execute_result"
    }
   ],
   "source": [
    "transformC.data"
   ]
  },
  {
   "cell_type": "code",
   "execution_count": 4,
   "metadata": {},
   "outputs": [
    {
     "data": {
      "text/plain": [
       "dict_keys(['memory', 'steps', 'inputs', 'global', 'estimator', 'inputs__memory', 'inputs__steps', 'inputs__inputs', 'inputs__inputs__n_jobs', 'inputs__inputs__transformer_list', 'inputs__inputs__transformer_weights', 'inputs__inputs__inputs', 'inputs__inputs__inputs__memory', 'inputs__inputs__inputs__steps', 'inputs__inputs__inputs__ColumnSelector', 'inputs__inputs__inputs__OrdinalEncoder', 'inputs__inputs__inputs__ColumnSelector__columns', 'inputs__inputs__inputs__OrdinalEncoder__categories', 'inputs__inputs__inputs__OrdinalEncoder__dtype', 'global__memory', 'global__steps', 'global__globals', 'global__globals__n_components', 'global__globals__priors', 'global__globals__shrinkage', 'global__globals__solver', 'global__globals__store_covariance', 'global__globals__tol', 'estimator__bootstrap', 'estimator__class_weight', 'estimator__criterion', 'estimator__max_depth', 'estimator__max_features', 'estimator__max_leaf_nodes', 'estimator__min_impurity_decrease', 'estimator__min_impurity_split', 'estimator__min_samples_leaf', 'estimator__min_samples_split', 'estimator__min_weight_fraction_leaf', 'estimator__n_estimators', 'estimator__n_jobs', 'estimator__oob_score', 'estimator__random_state', 'estimator__verbose', 'estimator__warm_start'])"
      ]
     },
     "execution_count": 4,
     "metadata": {},
     "output_type": "execute_result"
    }
   ],
   "source": [
    "trainC.pipeline.get_params().keys()"
   ]
  },
  {
   "cell_type": "code",
   "execution_count": 5,
   "metadata": {},
   "outputs": [],
   "source": [
    "clf = trainC.fit_GSCV()"
   ]
  },
  {
   "cell_type": "code",
   "execution_count": 6,
   "metadata": {},
   "outputs": [
    {
     "data": {
      "text/plain": [
       "0.6166233067192967"
      ]
     },
     "execution_count": 6,
     "metadata": {},
     "output_type": "execute_result"
    }
   ],
   "source": [
    "preds = clf.predict(loadC.partition.X_test)\n",
    "np.mean(preds == loadC.partition.y_test.values.ravel())"
   ]
  },
  {
   "cell_type": "code",
   "execution_count": 7,
   "metadata": {},
   "outputs": [
    {
     "data": {
      "text/plain": [
       "{'estimator__n_estimators': 200, 'global__globals__n_components': 2}"
      ]
     },
     "execution_count": 7,
     "metadata": {},
     "output_type": "execute_result"
    }
   ],
   "source": [
    "trainC.clf.best_params_"
   ]
  },
  {
   "cell_type": "code",
   "execution_count": null,
   "metadata": {},
   "outputs": [
    {
     "name": "stdout",
     "output_type": "stream",
     "text": [
      "In Visual-construct_figures\n",
      "In Classification-construct_figures\n"
     ]
    }
   ],
   "source": [
    "trainC.make_experiment(\"RandomForestPCA\")"
   ]
  }
 ],
 "metadata": {
  "kernelspec": {
   "display_name": "Python 3",
   "language": "python",
   "name": "python3"
  },
  "language_info": {
   "codemirror_mode": {
    "name": "ipython",
    "version": 3
   },
   "file_extension": ".py",
   "mimetype": "text/x-python",
   "name": "python",
   "nbconvert_exporter": "python",
   "pygments_lexer": "ipython3",
   "version": "3.6.5"
  }
 },
 "nbformat": 4,
 "nbformat_minor": 2
}
