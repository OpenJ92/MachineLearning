{
 "cells": [
  {
   "cell_type": "code",
   "execution_count": 1,
   "metadata": {},
   "outputs": [],
   "source": [
    "from Helper.Load.classification import Classification\n",
    "from Helper.Transform.Transform.classification import Classificaton_Transform\n",
    "from Helper.Train.Train import Train\n",
    "\n",
    "from sklearn.ensemble import AdaBoostClassifier\n",
    "from sklearn.decomposition import PCA\n",
    "from sklearn.discriminant_analysis import LinearDiscriminantAnalysis\n",
    "from sklearn.naive_bayes import GaussianNB\n",
    "from sklearn.gaussian_process import GaussianProcessClassifier\n",
    "from sklearn.gaussian_process.kernels import RBF\n",
    "from sklearn.ensemble import RandomForestClassifier\n",
    "from sklearn.svm import SVC\n",
    "\n",
    "import numpy as np\n",
    "import pandas as pd\n",
    "\n",
    "import warnings\n",
    "warnings.filterwarnings('ignore')"
   ]
  },
  {
   "cell_type": "code",
   "execution_count": 2,
   "metadata": {},
   "outputs": [
    {
     "data": {
      "text/plain": [
       "'/Users/jacob/Desktop/Project/MachineLearning/KEEL/Projects/Supervised/Standard/letters'"
      ]
     },
     "execution_count": 2,
     "metadata": {},
     "output_type": "execute_result"
    }
   ],
   "source": [
    "pwd"
   ]
  },
  {
   "cell_type": "code",
   "execution_count": 3,
   "metadata": {},
   "outputs": [],
   "source": [
    "loadC = Classification(\"Data\", \"letter.dat\", \"letters-name.txt\")\n",
    "#loadVC(loadC)\n",
    "\n",
    "from Data.columns import Column_\n",
    "transformC = Classificaton_Transform(loadC, Column_, LinearDiscriminantAnalysis)\n",
    "#transformVC(transformC)\n",
    "\n",
    "from Data.hyperparameters import hyperparameters\n",
    "trainC = Train(loadC, RandomForestClassifier(), transformC, hyperparameters)"
   ]
  },
  {
   "cell_type": "code",
   "execution_count": 4,
   "metadata": {},
   "outputs": [
    {
     "data": {
      "text/plain": [
       "dict_keys(['memory', 'steps', 'inputs', 'global', 'estimator', 'inputs__memory', 'inputs__steps', 'inputs__inputs', 'inputs__inputs__n_jobs', 'inputs__inputs__transformer_list', 'inputs__inputs__transformer_weights', 'inputs__inputs__inputs', 'inputs__inputs__inputs__memory', 'inputs__inputs__inputs__steps', 'inputs__inputs__inputs__ColumnSelector', 'inputs__inputs__inputs__StandardScaler', 'inputs__inputs__inputs__ColumnSelector__columns', 'inputs__inputs__inputs__StandardScaler__copy', 'inputs__inputs__inputs__StandardScaler__with_mean', 'inputs__inputs__inputs__StandardScaler__with_std', 'global__memory', 'global__steps', 'global__globals', 'global__globals__n_components', 'global__globals__priors', 'global__globals__shrinkage', 'global__globals__solver', 'global__globals__store_covariance', 'global__globals__tol', 'estimator__bootstrap', 'estimator__class_weight', 'estimator__criterion', 'estimator__max_depth', 'estimator__max_features', 'estimator__max_leaf_nodes', 'estimator__min_impurity_decrease', 'estimator__min_impurity_split', 'estimator__min_samples_leaf', 'estimator__min_samples_split', 'estimator__min_weight_fraction_leaf', 'estimator__n_estimators', 'estimator__n_jobs', 'estimator__oob_score', 'estimator__random_state', 'estimator__verbose', 'estimator__warm_start'])"
      ]
     },
     "execution_count": 4,
     "metadata": {},
     "output_type": "execute_result"
    }
   ],
   "source": [
    "trainC.pipeline.get_params().keys()"
   ]
  },
  {
   "cell_type": "code",
   "execution_count": 5,
   "metadata": {},
   "outputs": [],
   "source": [
    "clf = trainC.fit_GSCV()"
   ]
  },
  {
   "cell_type": "code",
   "execution_count": 6,
   "metadata": {},
   "outputs": [
    {
     "data": {
      "text/plain": [
       "0.8713636363636363"
      ]
     },
     "execution_count": 6,
     "metadata": {},
     "output_type": "execute_result"
    }
   ],
   "source": [
    "preds = clf.predict(loadC.partition.X_test)\n",
    "np.mean(preds == loadC.partition.y_test.values.ravel())"
   ]
  },
  {
   "cell_type": "code",
   "execution_count": null,
   "metadata": {},
   "outputs": [
    {
     "name": "stdout",
     "output_type": "stream",
     "text": [
      "> /Users/jacob/Desktop/Project/MachineLearning/KEEL/Projects/Supervised/Standard/letters/Helper/Train/Train.py(49)make_experiment()\n",
      "-> loadVC(self.load, dir_)\n"
     ]
    },
    {
     "name": "stdin",
     "output_type": "stream",
     "text": [
      "(Pdb)  c\n"
     ]
    },
    {
     "name": "stdout",
     "output_type": "stream",
     "text": [
      "In Visual-construct_figures\n",
      "In Classification-construct_figures\n",
      "In Visual-construct_figures\n",
      "\n",
      "Program interrupted. (Use 'cont' to resume).\n",
      "> /anaconda3/lib/python3.6/site-packages/matplotlib/path.py(260)should_simplify()\n",
      "-> return self._should_simplify\n"
     ]
    },
    {
     "name": "stdin",
     "output_type": "stream",
     "text": [
      "(Pdb)  c\n"
     ]
    }
   ],
   "source": [
    "trainC.make_experiment(\"RandomForest_\")"
   ]
  },
  {
   "cell_type": "code",
   "execution_count": null,
   "metadata": {},
   "outputs": [],
   "source": [
    "trainC.clf.best_params_"
   ]
  }
 ],
 "metadata": {
  "kernelspec": {
   "display_name": "Python 3",
   "language": "python",
   "name": "python3"
  },
  "language_info": {
   "codemirror_mode": {
    "name": "ipython",
    "version": 3
   },
   "file_extension": ".py",
   "mimetype": "text/x-python",
   "name": "python",
   "nbconvert_exporter": "python",
   "pygments_lexer": "ipython3",
   "version": "3.6.5"
  }
 },
 "nbformat": 4,
 "nbformat_minor": 2
}
