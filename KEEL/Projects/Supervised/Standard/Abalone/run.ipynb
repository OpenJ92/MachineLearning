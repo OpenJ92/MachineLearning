{
 "cells": [
  {
   "cell_type": "code",
   "execution_count": 1,
   "metadata": {},
   "outputs": [],
   "source": [
    "from Helper.Load.load import Base_Load\n",
    "from Helper.Load.supervised import Supervised\n",
    "from Helper.Load.regression import Regression\n",
    "from Helper.Load.classification import Classification\n",
    "from Helper.Visual.Visual import Visual\n",
    "from Helper.Visual.classification import VClassification\n",
    "from Helper.Transform.Transform.classification import Classificaton_Transform\n",
    "\n",
    "import numpy as n\n",
    "import matplotlib.pyplot as plt"
   ]
  },
  {
   "cell_type": "code",
   "execution_count": 2,
   "metadata": {},
   "outputs": [
    {
     "name": "stderr",
     "output_type": "stream",
     "text": [
      "/anaconda3/lib/python3.6/site-packages/sklearn/preprocessing/_encoders.py:65: FutureWarning: elementwise comparison failed; returning scalar instead, but in the future will perform elementwise comparison\n",
      "  if self._categories != 'auto':\n",
      "/anaconda3/lib/python3.6/site-packages/sklearn/preprocessing/_encoders.py:79: FutureWarning: elementwise comparison failed; returning scalar instead, but in the future will perform elementwise comparison\n",
      "  if self._categories == 'auto':\n"
     ]
    },
    {
     "name": "stdout",
     "output_type": "stream",
     "text": [
      "> /Users/jacob/Desktop/Project/MachineLearning/KEEL/Projects/Supervised/Standard/Abalone/Helper/Transform/Transform/classification.py(32)visual_data()\n",
      "-> return pd.DataFrame(self.featureU().transform(data), columns=data.columns)\n"
     ]
    },
    {
     "name": "stdin",
     "output_type": "stream",
     "text": [
      "(Pdb)  data\n"
     ]
    },
    {
     "name": "stdout",
     "output_type": "stream",
     "text": [
      "     Sex  Length  Diameter  Height  Whole_weight  Shucked_weight  \\\n",
      "2390   M   0.545     0.420   0.145        0.7780          0.3745   \n",
      "1769   M   0.690     0.550   0.180        1.6915          0.6655   \n",
      "2045   I   0.435     0.345   0.120        0.4475          0.2210   \n",
      "1398   I   0.380     0.285   0.095        0.2430          0.0895   \n",
      "3078   F   0.490     0.370   0.105        0.5265          0.2490   \n",
      "1545   M   0.645     0.500   0.175        1.3375          0.5540   \n",
      "3459   M   0.455     0.350   0.105        0.4160          0.1625   \n",
      "361    M   0.590     0.485   0.120        0.9110          0.3900   \n",
      "135    I   0.280     0.205   0.080        0.1270          0.0520   \n",
      "1134   I   0.425     0.325   0.110        0.3335          0.1730   \n",
      "2153   F   0.530     0.430   0.170        0.7750          0.3500   \n",
      "1151   I   0.470     0.355   0.120        0.3930          0.1670   \n",
      "4097   I   0.470     0.355   0.115        0.4155          0.1670   \n",
      "2411   M   0.615     0.475   0.175        1.1030          0.4635   \n",
      "2949   M   0.465     0.360   0.125        0.4365          0.1690   \n",
      "1053   M   0.615     0.460   0.170        1.0565          0.4815   \n",
      "3527   F   0.645     0.490   0.190        1.3065          0.4790   \n",
      "22     F   0.560     0.440   0.140        0.9285          0.3825   \n",
      "2987   F   0.480     0.380   0.135        0.5070          0.1915   \n",
      "4085   M   0.545     0.410   0.145        0.8730          0.3035   \n",
      "2846   M   0.505     0.395   0.125        0.6350          0.2900   \n",
      "695    F   0.590     0.445   0.130        1.1325          0.3825   \n",
      "1832   F   0.400     0.305   0.160        0.3680          0.1730   \n",
      "420    F   0.530     0.440   0.135        0.7835          0.3130   \n",
      "3700   I   0.560     0.420   0.140        0.8370          0.4140   \n",
      "460    M   0.310     0.220   0.085        0.1460          0.0610   \n",
      "1067   F   0.660     0.530   0.185        1.3460          0.5460   \n",
      "87     M   0.665     0.535   0.195        1.6060          0.5755   \n",
      "282    F   0.630     0.485   0.190        1.2435          0.4635   \n",
      "1501   M   0.600     0.470   0.160        1.1940          0.5625   \n",
      "...   ..     ...       ...     ...           ...             ...   \n",
      "3202   I   0.530     0.420   0.130        0.6580          0.2960   \n",
      "1528   F   0.625     0.485   0.175        1.3620          0.6765   \n",
      "1267   M   0.650     0.525   0.175        1.5365          0.6865   \n",
      "1899   M   0.425     0.325   0.100        0.3295          0.1365   \n",
      "3005   F   0.510     0.340   0.180        0.7005          0.3120   \n",
      "2734   I   0.565     0.440   0.135        0.7680          0.3305   \n",
      "189    I   0.435     0.340   0.110        0.3795          0.1495   \n",
      "1806   M   0.505     0.395   0.135        0.5915          0.2880   \n",
      "975    I   0.420     0.310   0.095        0.2790          0.1255   \n",
      "2747   F   0.595     0.460   0.160        0.9210          0.4005   \n",
      "2047   I   0.420     0.330   0.100        0.3520          0.1635   \n",
      "2558   M   0.590     0.470   0.155        1.1735          0.6245   \n",
      "1082   M   0.715     0.535   0.190        1.6755          0.8890   \n",
      "474    F   0.570     0.445   0.155        0.7330          0.2820   \n",
      "2904   M   0.675     0.525   0.175        1.4020          0.4830   \n",
      "4117   I   0.550     0.400   0.135        0.7170          0.3315   \n",
      "3385   I   0.525     0.400   0.140        0.6055          0.2605   \n",
      "1184   I   0.545     0.430   0.150        0.7285          0.3020   \n",
      "2433   M   0.700     0.550   0.200        1.5230          0.6930   \n",
      "2391   M   0.545     0.420   0.120        0.7865          0.4030   \n",
      "769    M   0.550     0.450   0.150        1.0145          0.4070   \n",
      "1685   I   0.530     0.395   0.130        0.5750          0.2470   \n",
      "130    M   0.650     0.520   0.190        1.3445          0.5190   \n",
      "2919   I   0.345     0.285   0.100        0.2225          0.0865   \n",
      "3171   M   0.715     0.545   0.180        1.7405          0.8710   \n",
      "3444   M   0.620     0.460   0.170        1.1270          0.5350   \n",
      "466    F   0.345     0.250   0.090        0.2030          0.0780   \n",
      "3092   I   0.350     0.265   0.095        0.1990          0.0730   \n",
      "3772   M   0.580     0.450   0.150        0.9270          0.2760   \n",
      "860    M   0.480     0.375   0.115        0.6765          0.3205   \n",
      "\n",
      "      Viscera_weight  Shell_weight  Rings  \n",
      "2390          0.1545        0.2050      7  \n",
      "1769          0.4020        0.5000     11  \n",
      "2045          0.1120        0.1250      7  \n",
      "1398          0.0665        0.0750      7  \n",
      "3078          0.1005        0.1480      7  \n",
      "1545          0.3080        0.4150     10  \n",
      "3459          0.0970        0.1450     11  \n",
      "361           0.1820        0.2900     16  \n",
      "135           0.0390        0.0420      9  \n",
      "1134          0.0450        0.1000      7  \n",
      "2153          0.1520        0.2350     17  \n",
      "1151          0.0885        0.1150      8  \n",
      "4097          0.0840        0.1390      7  \n",
      "2411          0.3095        0.2725     10  \n",
      "2949          0.1075        0.1450     11  \n",
      "1053          0.2720        0.2700     10  \n",
      "3527          0.3565        0.3450     18  \n",
      "22            0.1880        0.3000     11  \n",
      "2987          0.1365        0.1550     12  \n",
      "4085          0.1960        0.3100     18  \n",
      "2846          0.1555        0.1750      9  \n",
      "695           0.2340        0.3200     13  \n",
      "1832          0.0705        0.1050      7  \n",
      "420           0.1715        0.2185      9  \n",
      "3700          0.2140        0.2000      8  \n",
      "460           0.0365        0.0450      6  \n",
      "1067          0.2705        0.4760     11  \n",
      "87            0.3880        0.4800     14  \n",
      "282           0.3055        0.3900     21  \n",
      "1501          0.3045        0.2635     10  \n",
      "...              ...           ...    ...  \n",
      "3202          0.1245        0.1980      8  \n",
      "1528          0.2615        0.3705     10  \n",
      "1267          0.3585        0.4050     11  \n",
      "1899          0.0725        0.1100      7  \n",
      "3005          0.1650        0.2000     11  \n",
      "2734          0.1385        0.2475      9  \n",
      "189           0.0850        0.1200      8  \n",
      "1806          0.1315        0.1850     12  \n",
      "975           0.0510        0.0880      6  \n",
      "2747          0.2025        0.2875      9  \n",
      "2047          0.0890        0.1000      9  \n",
      "2558          0.2330        0.2595      9  \n",
      "1082          0.3130        0.4200     10  \n",
      "474           0.1590        0.2350     14  \n",
      "2904          0.3205        0.4650     16  \n",
      "4117          0.1495        0.2210      9  \n",
      "3385          0.1080        0.2100      9  \n",
      "1184          0.1315        0.2545     10  \n",
      "2433          0.3060        0.4405     13  \n",
      "2391          0.1850        0.1700      7  \n",
      "769           0.2015        0.2875     10  \n",
      "1685          0.1150        0.1830      9  \n",
      "130           0.3060        0.4465     16  \n",
      "2919          0.0580        0.0750      8  \n",
      "3171          0.3470        0.4490     10  \n",
      "3444          0.2635        0.2960      7  \n",
      "466           0.0590        0.0550      6  \n",
      "3092          0.0490        0.0600      5  \n",
      "3772          0.1815        0.3600     14  \n",
      "860           0.1065        0.1700      6  \n",
      "\n",
      "[2796 rows x 9 columns]\n"
     ]
    },
    {
     "name": "stdin",
     "output_type": "stream",
     "text": [
      "(Pdb)  self.featureU().transform(data)\n"
     ]
    },
    {
     "name": "stdout",
     "output_type": "stream",
     "text": [
      "<2796x110 sparse matrix of type '<class 'numpy.float64'>'\n",
      "\twith 25164 stored elements in Compressed Sparse Row format>\n"
     ]
    },
    {
     "name": "stdin",
     "output_type": "stream",
     "text": [
      "(Pdb)  data.columns\n"
     ]
    },
    {
     "name": "stdout",
     "output_type": "stream",
     "text": [
      "Index(['Sex', 'Length', 'Diameter', 'Height', 'Whole_weight', 'Shucked_weight',\n",
      "       'Viscera_weight', 'Shell_weight', 'Rings'],\n",
      "      dtype='object')\n"
     ]
    },
    {
     "name": "stdin",
     "output_type": "stream",
     "text": [
      "(Pdb)  np.array(self.featureU().transform(data))\n"
     ]
    },
    {
     "name": "stdout",
     "output_type": "stream",
     "text": [
      "*** NameError: name 'np' is not defined\n"
     ]
    },
    {
     "name": "stdin",
     "output_type": "stream",
     "text": [
      "(Pdb)  import numpy as np\n",
      "(Pdb)  np.array(self.featureU().transform(data))\n"
     ]
    },
    {
     "name": "stdout",
     "output_type": "stream",
     "text": [
      "array(<2796x110 sparse matrix of type '<class 'numpy.float64'>'\n",
      "\twith 25164 stored elements in Compressed Sparse Row format>, dtype=object)\n"
     ]
    },
    {
     "name": "stdin",
     "output_type": "stream",
     "text": [
      "(Pdb)  c\n"
     ]
    },
    {
     "ename": "ValueError",
     "evalue": "Shape of passed values is (2796, 1), indices imply (2796, 9)",
     "output_type": "error",
     "traceback": [
      "\u001b[0;31m---------------------------------------------------------------------------\u001b[0m",
      "\u001b[0;31mValueError\u001b[0m                                Traceback (most recent call last)",
      "\u001b[0;32m/anaconda3/lib/python3.6/site-packages/pandas/core/internals/managers.py\u001b[0m in \u001b[0;36mcreate_block_manager_from_blocks\u001b[0;34m(blocks, axes)\u001b[0m\n\u001b[1;32m   1650\u001b[0m                 blocks = [make_block(values=blocks[0],\n\u001b[0;32m-> 1651\u001b[0;31m                                      placement=slice(0, len(axes[0])))]\n\u001b[0m\u001b[1;32m   1652\u001b[0m \u001b[0;34m\u001b[0m\u001b[0m\n",
      "\u001b[0;32m/anaconda3/lib/python3.6/site-packages/pandas/core/internals/blocks.py\u001b[0m in \u001b[0;36mmake_block\u001b[0;34m(values, placement, klass, ndim, dtype, fastpath)\u001b[0m\n\u001b[1;32m   3094\u001b[0m \u001b[0;34m\u001b[0m\u001b[0m\n\u001b[0;32m-> 3095\u001b[0;31m     \u001b[0;32mreturn\u001b[0m \u001b[0mklass\u001b[0m\u001b[0;34m(\u001b[0m\u001b[0mvalues\u001b[0m\u001b[0;34m,\u001b[0m \u001b[0mndim\u001b[0m\u001b[0;34m=\u001b[0m\u001b[0mndim\u001b[0m\u001b[0;34m,\u001b[0m \u001b[0mplacement\u001b[0m\u001b[0;34m=\u001b[0m\u001b[0mplacement\u001b[0m\u001b[0;34m)\u001b[0m\u001b[0;34m\u001b[0m\u001b[0m\n\u001b[0m\u001b[1;32m   3096\u001b[0m \u001b[0;34m\u001b[0m\u001b[0m\n",
      "\u001b[0;32m/anaconda3/lib/python3.6/site-packages/pandas/core/internals/blocks.py\u001b[0m in \u001b[0;36m__init__\u001b[0;34m(self, values, placement, ndim)\u001b[0m\n\u001b[1;32m   2630\u001b[0m         super(ObjectBlock, self).__init__(values, ndim=ndim,\n\u001b[0;32m-> 2631\u001b[0;31m                                           placement=placement)\n\u001b[0m\u001b[1;32m   2632\u001b[0m \u001b[0;34m\u001b[0m\u001b[0m\n",
      "\u001b[0;32m/anaconda3/lib/python3.6/site-packages/pandas/core/internals/blocks.py\u001b[0m in \u001b[0;36m__init__\u001b[0;34m(self, values, placement, ndim)\u001b[0m\n\u001b[1;32m     86\u001b[0m                 \u001b[0;34m'Wrong number of items passed {val}, placement implies '\u001b[0m\u001b[0;34m\u001b[0m\u001b[0m\n\u001b[0;32m---> 87\u001b[0;31m                 '{mgr}'.format(val=len(self.values), mgr=len(self.mgr_locs)))\n\u001b[0m\u001b[1;32m     88\u001b[0m \u001b[0;34m\u001b[0m\u001b[0m\n",
      "\u001b[0;31mValueError\u001b[0m: Wrong number of items passed 1, placement implies 9",
      "\nDuring handling of the above exception, another exception occurred:\n",
      "\u001b[0;31mValueError\u001b[0m                                Traceback (most recent call last)",
      "\u001b[0;32m<ipython-input-2-ae210b9dc148>\u001b[0m in \u001b[0;36m<module>\u001b[0;34m\u001b[0m\n\u001b[1;32m      1\u001b[0m \u001b[0mloadC\u001b[0m \u001b[0;34m=\u001b[0m \u001b[0mClassification\u001b[0m\u001b[0;34m(\u001b[0m\u001b[0;34m\"Data\"\u001b[0m\u001b[0;34m,\u001b[0m \u001b[0;34m\"abalone.dat\"\u001b[0m\u001b[0;34m,\u001b[0m \u001b[0;34m\"abalone_names.txt\"\u001b[0m\u001b[0;34m)\u001b[0m\u001b[0;34m\u001b[0m\u001b[0m\n\u001b[0;32m----> 2\u001b[0;31m \u001b[0mtransformC\u001b[0m \u001b[0;34m=\u001b[0m \u001b[0mClassificaton_Transform\u001b[0m\u001b[0;34m(\u001b[0m\u001b[0mloadC\u001b[0m\u001b[0;34m)\u001b[0m\u001b[0;34m\u001b[0m\u001b[0m\n\u001b[0m",
      "\u001b[0;32m~/Desktop/Project/MachineLearning/KEEL/Projects/Supervised/Standard/Abalone/Helper/Transform/Transform/classification.py\u001b[0m in \u001b[0;36m__init__\u001b[0;34m(self, Load)\u001b[0m\n\u001b[1;32m     10\u001b[0m         \u001b[0mself\u001b[0m\u001b[0;34m.\u001b[0m\u001b[0minputs_pipeline\u001b[0m\u001b[0;34m,\u001b[0m \u001b[0mself\u001b[0m\u001b[0;34m.\u001b[0m\u001b[0moutputs_pipeline\u001b[0m \u001b[0;34m=\u001b[0m \u001b[0mself\u001b[0m\u001b[0;34m.\u001b[0m\u001b[0massemble_pipelines\u001b[0m\u001b[0;34m(\u001b[0m\u001b[0;34m)\u001b[0m\u001b[0;34m\u001b[0m\u001b[0m\n\u001b[1;32m     11\u001b[0m         \u001b[0mself\u001b[0m\u001b[0;34m.\u001b[0m\u001b[0m_fit\u001b[0m\u001b[0;34m(\u001b[0m\u001b[0;34m)\u001b[0m\u001b[0;34m\u001b[0m\u001b[0m\n\u001b[0;32m---> 12\u001b[0;31m         \u001b[0mself\u001b[0m\u001b[0;34m.\u001b[0m\u001b[0mdata\u001b[0m \u001b[0;34m=\u001b[0m \u001b[0mself\u001b[0m\u001b[0;34m.\u001b[0m\u001b[0mvisual_data\u001b[0m\u001b[0;34m(\u001b[0m\u001b[0;34m)\u001b[0m\u001b[0;34m\u001b[0m\u001b[0m\n\u001b[0m\u001b[1;32m     13\u001b[0m \u001b[0;34m\u001b[0m\u001b[0m\n\u001b[1;32m     14\u001b[0m     \u001b[0;32mdef\u001b[0m \u001b[0m_fit\u001b[0m\u001b[0;34m(\u001b[0m\u001b[0mself\u001b[0m\u001b[0;34m)\u001b[0m\u001b[0;34m:\u001b[0m\u001b[0;34m\u001b[0m\u001b[0m\n",
      "\u001b[0;32m~/Desktop/Project/MachineLearning/KEEL/Projects/Supervised/Standard/Abalone/Helper/Transform/Transform/classification.py\u001b[0m in \u001b[0;36mvisual_data\u001b[0;34m(self)\u001b[0m\n\u001b[1;32m     30\u001b[0m         \u001b[0mdata\u001b[0m \u001b[0;34m=\u001b[0m \u001b[0mpd\u001b[0m\u001b[0;34m.\u001b[0m\u001b[0mmerge\u001b[0m\u001b[0;34m(\u001b[0m\u001b[0mself\u001b[0m\u001b[0;34m.\u001b[0m\u001b[0mload\u001b[0m\u001b[0;34m.\u001b[0m\u001b[0mpartition\u001b[0m\u001b[0;34m.\u001b[0m\u001b[0mX_train\u001b[0m\u001b[0;34m,\u001b[0m \u001b[0mself\u001b[0m\u001b[0;34m.\u001b[0m\u001b[0mload\u001b[0m\u001b[0;34m.\u001b[0m\u001b[0mpartition\u001b[0m\u001b[0;34m.\u001b[0m\u001b[0my_train\u001b[0m\u001b[0;34m,\u001b[0m \u001b[0mleft_index\u001b[0m\u001b[0;34m=\u001b[0m\u001b[0;32mTrue\u001b[0m\u001b[0;34m,\u001b[0m \u001b[0mright_index\u001b[0m\u001b[0;34m=\u001b[0m\u001b[0;32mTrue\u001b[0m\u001b[0;34m)\u001b[0m\u001b[0;34m\u001b[0m\u001b[0m\n\u001b[1;32m     31\u001b[0m         \u001b[0;32mimport\u001b[0m \u001b[0mpdb\u001b[0m\u001b[0;34m;\u001b[0m\u001b[0mpdb\u001b[0m\u001b[0;34m.\u001b[0m\u001b[0mset_trace\u001b[0m\u001b[0;34m(\u001b[0m\u001b[0;34m)\u001b[0m\u001b[0;34m\u001b[0m\u001b[0m\n\u001b[0;32m---> 32\u001b[0;31m         \u001b[0;32mreturn\u001b[0m \u001b[0mpd\u001b[0m\u001b[0;34m.\u001b[0m\u001b[0mDataFrame\u001b[0m\u001b[0;34m(\u001b[0m\u001b[0mself\u001b[0m\u001b[0;34m.\u001b[0m\u001b[0mfeatureU\u001b[0m\u001b[0;34m(\u001b[0m\u001b[0;34m)\u001b[0m\u001b[0;34m.\u001b[0m\u001b[0mtransform\u001b[0m\u001b[0;34m(\u001b[0m\u001b[0mdata\u001b[0m\u001b[0;34m)\u001b[0m\u001b[0;34m,\u001b[0m \u001b[0mcolumns\u001b[0m\u001b[0;34m=\u001b[0m\u001b[0mdata\u001b[0m\u001b[0;34m.\u001b[0m\u001b[0mcolumns\u001b[0m\u001b[0;34m)\u001b[0m\u001b[0;34m\u001b[0m\u001b[0m\n\u001b[0m\u001b[1;32m     33\u001b[0m \u001b[0;34m\u001b[0m\u001b[0m\n",
      "\u001b[0;32m/anaconda3/lib/python3.6/site-packages/pandas/core/frame.py\u001b[0m in \u001b[0;36m__init__\u001b[0;34m(self, data, index, columns, dtype, copy)\u001b[0m\n\u001b[1;32m    448\u001b[0m                 \u001b[0;32melse\u001b[0m\u001b[0;34m:\u001b[0m\u001b[0;34m\u001b[0m\u001b[0m\n\u001b[1;32m    449\u001b[0m                     mgr = init_ndarray(data, index, columns, dtype=dtype,\n\u001b[0;32m--> 450\u001b[0;31m                                        copy=copy)\n\u001b[0m\u001b[1;32m    451\u001b[0m             \u001b[0;32melse\u001b[0m\u001b[0;34m:\u001b[0m\u001b[0;34m\u001b[0m\u001b[0m\n\u001b[1;32m    452\u001b[0m                 \u001b[0mmgr\u001b[0m \u001b[0;34m=\u001b[0m \u001b[0minit_dict\u001b[0m\u001b[0;34m(\u001b[0m\u001b[0;34m{\u001b[0m\u001b[0;34m}\u001b[0m\u001b[0;34m,\u001b[0m \u001b[0mindex\u001b[0m\u001b[0;34m,\u001b[0m \u001b[0mcolumns\u001b[0m\u001b[0;34m,\u001b[0m \u001b[0mdtype\u001b[0m\u001b[0;34m=\u001b[0m\u001b[0mdtype\u001b[0m\u001b[0;34m)\u001b[0m\u001b[0;34m\u001b[0m\u001b[0m\n",
      "\u001b[0;32m/anaconda3/lib/python3.6/site-packages/pandas/core/internals/construction.py\u001b[0m in \u001b[0;36minit_ndarray\u001b[0;34m(values, index, columns, dtype, copy)\u001b[0m\n\u001b[1;32m    165\u001b[0m         \u001b[0mvalues\u001b[0m \u001b[0;34m=\u001b[0m \u001b[0mmaybe_infer_to_datetimelike\u001b[0m\u001b[0;34m(\u001b[0m\u001b[0mvalues\u001b[0m\u001b[0;34m)\u001b[0m\u001b[0;34m\u001b[0m\u001b[0m\n\u001b[1;32m    166\u001b[0m \u001b[0;34m\u001b[0m\u001b[0m\n\u001b[0;32m--> 167\u001b[0;31m     \u001b[0;32mreturn\u001b[0m \u001b[0mcreate_block_manager_from_blocks\u001b[0m\u001b[0;34m(\u001b[0m\u001b[0;34m[\u001b[0m\u001b[0mvalues\u001b[0m\u001b[0;34m]\u001b[0m\u001b[0;34m,\u001b[0m \u001b[0;34m[\u001b[0m\u001b[0mcolumns\u001b[0m\u001b[0;34m,\u001b[0m \u001b[0mindex\u001b[0m\u001b[0;34m]\u001b[0m\u001b[0;34m)\u001b[0m\u001b[0;34m\u001b[0m\u001b[0m\n\u001b[0m\u001b[1;32m    168\u001b[0m \u001b[0;34m\u001b[0m\u001b[0m\n\u001b[1;32m    169\u001b[0m \u001b[0;34m\u001b[0m\u001b[0m\n",
      "\u001b[0;32m/anaconda3/lib/python3.6/site-packages/pandas/core/internals/managers.py\u001b[0m in \u001b[0;36mcreate_block_manager_from_blocks\u001b[0;34m(blocks, axes)\u001b[0m\n\u001b[1;32m   1658\u001b[0m         \u001b[0mblocks\u001b[0m \u001b[0;34m=\u001b[0m \u001b[0;34m[\u001b[0m\u001b[0mgetattr\u001b[0m\u001b[0;34m(\u001b[0m\u001b[0mb\u001b[0m\u001b[0;34m,\u001b[0m \u001b[0;34m'values'\u001b[0m\u001b[0;34m,\u001b[0m \u001b[0mb\u001b[0m\u001b[0;34m)\u001b[0m \u001b[0;32mfor\u001b[0m \u001b[0mb\u001b[0m \u001b[0;32min\u001b[0m \u001b[0mblocks\u001b[0m\u001b[0;34m]\u001b[0m\u001b[0;34m\u001b[0m\u001b[0m\n\u001b[1;32m   1659\u001b[0m         \u001b[0mtot_items\u001b[0m \u001b[0;34m=\u001b[0m \u001b[0msum\u001b[0m\u001b[0;34m(\u001b[0m\u001b[0mb\u001b[0m\u001b[0;34m.\u001b[0m\u001b[0mshape\u001b[0m\u001b[0;34m[\u001b[0m\u001b[0;36m0\u001b[0m\u001b[0;34m]\u001b[0m \u001b[0;32mfor\u001b[0m \u001b[0mb\u001b[0m \u001b[0;32min\u001b[0m \u001b[0mblocks\u001b[0m\u001b[0;34m)\u001b[0m\u001b[0;34m\u001b[0m\u001b[0m\n\u001b[0;32m-> 1660\u001b[0;31m         \u001b[0mconstruction_error\u001b[0m\u001b[0;34m(\u001b[0m\u001b[0mtot_items\u001b[0m\u001b[0;34m,\u001b[0m \u001b[0mblocks\u001b[0m\u001b[0;34m[\u001b[0m\u001b[0;36m0\u001b[0m\u001b[0;34m]\u001b[0m\u001b[0;34m.\u001b[0m\u001b[0mshape\u001b[0m\u001b[0;34m[\u001b[0m\u001b[0;36m1\u001b[0m\u001b[0;34m:\u001b[0m\u001b[0;34m]\u001b[0m\u001b[0;34m,\u001b[0m \u001b[0maxes\u001b[0m\u001b[0;34m,\u001b[0m \u001b[0me\u001b[0m\u001b[0;34m)\u001b[0m\u001b[0;34m\u001b[0m\u001b[0m\n\u001b[0m\u001b[1;32m   1661\u001b[0m \u001b[0;34m\u001b[0m\u001b[0m\n\u001b[1;32m   1662\u001b[0m \u001b[0;34m\u001b[0m\u001b[0m\n",
      "\u001b[0;32m/anaconda3/lib/python3.6/site-packages/pandas/core/internals/managers.py\u001b[0m in \u001b[0;36mconstruction_error\u001b[0;34m(tot_items, block_shape, axes, e)\u001b[0m\n\u001b[1;32m   1689\u001b[0m         \u001b[0;32mraise\u001b[0m \u001b[0mValueError\u001b[0m\u001b[0;34m(\u001b[0m\u001b[0;34m\"Empty data passed with indices specified.\"\u001b[0m\u001b[0;34m)\u001b[0m\u001b[0;34m\u001b[0m\u001b[0m\n\u001b[1;32m   1690\u001b[0m     raise ValueError(\"Shape of passed values is {0}, indices imply {1}\".format(\n\u001b[0;32m-> 1691\u001b[0;31m         passed, implied))\n\u001b[0m\u001b[1;32m   1692\u001b[0m \u001b[0;34m\u001b[0m\u001b[0m\n\u001b[1;32m   1693\u001b[0m \u001b[0;34m\u001b[0m\u001b[0m\n",
      "\u001b[0;31mValueError\u001b[0m: Shape of passed values is (2796, 1), indices imply (2796, 9)"
     ]
    }
   ],
   "source": [
    "loadC = Classification(\"Data\", \"abalone.dat\", \"abalone_names.txt\")\n",
    "transformC = Classificaton_Transform(loadC)\n",
    "# there's a problem wth the OneHotEncoding element. We should reconsider how we're carrying out our classification."
   ]
  },
  {
   "cell_type": "code",
   "execution_count": null,
   "metadata": {},
   "outputs": [],
   "source": [
    "from sklearn.svm import SVC\n",
    "from sklearn.tree import DecisionTreeClassifier\n",
    "from sklearn.pipeline import Pipeline\n",
    "from sklearn.preprocessing import LabelBinarizer, LabelEncoder, OneHotEncoder\n",
    "from sklearn.compose import TransformedTargetRegressor\n",
    "from sklearn.model_selection import GridSearchCV"
   ]
  },
  {
   "cell_type": "code",
   "execution_count": null,
   "metadata": {},
   "outputs": [],
   "source": [
    "pipe = Pipeline([('transform_inputs', transformC.inputs_pipeline), \n",
    "                 ('SVC', SVC(gamma='auto'))])"
   ]
  },
  {
   "cell_type": "code",
   "execution_count": null,
   "metadata": {},
   "outputs": [],
   "source": []
  }
 ],
 "metadata": {
  "kernelspec": {
   "display_name": "Python 3",
   "language": "python",
   "name": "python3"
  },
  "language_info": {
   "codemirror_mode": {
    "name": "ipython",
    "version": 3
   },
   "file_extension": ".py",
   "mimetype": "text/x-python",
   "name": "python",
   "nbconvert_exporter": "python",
   "pygments_lexer": "ipython3",
   "version": "3.6.5"
  }
 },
 "nbformat": 4,
 "nbformat_minor": 2
}
