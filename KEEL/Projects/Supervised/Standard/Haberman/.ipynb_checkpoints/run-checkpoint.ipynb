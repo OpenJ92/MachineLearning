{
 "cells": [
  {
   "cell_type": "code",
   "execution_count": 1,
   "metadata": {},
   "outputs": [],
   "source": [
    "from Helper.Load.load import Base_Load\n",
    "from Helper.Load.supervised import Supervised\n",
    "from Helper.Load.regression import Regression\n",
    "from Helper.Load.classification import Classification\n",
    "from Helper.Visual.Visual import Visual\n",
    "from Helper.Visual.classification import VClassification\n",
    "from Helper.Transform.Transform.classification import Classificaton_Transform\n",
    "from Helper.Train.Train import Train\n",
    "\n",
    "from sklearn.model_selection import GridSearchCV\n",
    "from sklearn.svm import SVC\n",
    "from sklearn.ensemble import RandomForestClassifier\n",
    "import numpy as np\n",
    "import matplotlib.pyplot as plt\n",
    "import pandas as pd"
   ]
  },
  {
   "cell_type": "code",
   "execution_count": 2,
   "metadata": {},
   "outputs": [],
   "source": [
    "loadC = Classification(\"Data\", \"haberman.dat\", \"haberman-names.txt\")\n",
    "transformC = Classificaton_Transform(loadC)\n",
    "trainC = Train(loadC, Classificaton_Transform, RandomForestClassifier)"
   ]
  },
  {
   "cell_type": "code",
   "execution_count": 3,
   "metadata": {},
   "outputs": [],
   "source": [
    "pipe = trainC.pipeline"
   ]
  },
  {
   "cell_type": "code",
   "execution_count": 5,
   "metadata": {},
   "outputs": [
    {
     "data": {
      "text/plain": [
       "dict_keys(['memory', 'steps', 'pipeline', 'estimator', 'pipeline__memory', 'pipeline__steps', 'pipeline__inputs', 'pipeline__inputs__n_jobs', 'pipeline__inputs__transformer_list', 'pipeline__inputs__transformer_weights', 'pipeline__inputs__Age', 'pipeline__inputs__Year', 'pipeline__inputs__Positive', 'pipeline__inputs__Age__memory', 'pipeline__inputs__Age__steps', 'pipeline__inputs__Age__Age_selector', 'pipeline__inputs__Age__KBinsDiscretizer_transform', 'pipeline__inputs__Age__Age_selector__key', 'pipeline__inputs__Age__KBinsDiscretizer_transform__encode', 'pipeline__inputs__Age__KBinsDiscretizer_transform__n_bins', 'pipeline__inputs__Age__KBinsDiscretizer_transform__strategy', 'pipeline__inputs__Year__memory', 'pipeline__inputs__Year__steps', 'pipeline__inputs__Year__Year_selector', 'pipeline__inputs__Year__KBinsDiscretizer_transform', 'pipeline__inputs__Year__Year_selector__key', 'pipeline__inputs__Year__KBinsDiscretizer_transform__encode', 'pipeline__inputs__Year__KBinsDiscretizer_transform__n_bins', 'pipeline__inputs__Year__KBinsDiscretizer_transform__strategy', 'pipeline__inputs__Positive__memory', 'pipeline__inputs__Positive__steps', 'pipeline__inputs__Positive__Positive_selector', 'pipeline__inputs__Positive__KBinsDiscretizer_transform', 'pipeline__inputs__Positive__Positive_selector__key', 'pipeline__inputs__Positive__KBinsDiscretizer_transform__encode', 'pipeline__inputs__Positive__KBinsDiscretizer_transform__n_bins', 'pipeline__inputs__Positive__KBinsDiscretizer_transform__strategy', 'estimator__bootstrap', 'estimator__class_weight', 'estimator__criterion', 'estimator__max_depth', 'estimator__max_features', 'estimator__max_leaf_nodes', 'estimator__min_impurity_decrease', 'estimator__min_impurity_split', 'estimator__min_samples_leaf', 'estimator__min_samples_split', 'estimator__min_weight_fraction_leaf', 'estimator__n_estimators', 'estimator__n_jobs', 'estimator__oob_score', 'estimator__random_state', 'estimator__verbose', 'estimator__warm_start'])"
      ]
     },
     "execution_count": 5,
     "metadata": {},
     "output_type": "execute_result"
    }
   ],
   "source": [
    "pipe.get_params().keys()"
   ]
  },
  {
   "cell_type": "code",
   "execution_count": 6,
   "metadata": {},
   "outputs": [],
   "source": [
    "from sklearn.model_selection import GridSearchCV\n",
    "hyperparameters = {\n",
    "                   'estimator__max_depth': [1,2,4,8], \n",
    "                   'estimator__max_depth': [1,2,4,8],\n",
    "                   'estimator__n_estimators':[100,110,120],\n",
    "                   'estimator__class_weight':['balanced'],\n",
    "                   'pipeline__inputs__Age__KBinsDiscretizer_transform__n_bins':range(10,20),\n",
    "                   'pipeline__inputs__Year__KBinsDiscretizer_transform__n_bins':range(10,20),\n",
    "                   'pipeline__inputs__Positive__KBinsDiscretizer_transform__n_bins':range(10,20)\n",
    "                  }\n",
    "hyperparameters_2 = {\n",
    "                   'estimator__gamma': np.linspace(.25, 2, 20), \n",
    "                   'estimator__kernel': ['rbf', 'linear'],\n",
    "                   'estimator__probability':[True],\n",
    "                   'estimator__class_weight':['balanced'],\n",
    "                   'pipeline__inputs__Age__KBinsDiscretizer_transform__n_bins':[5,7,10,14],\n",
    "                   'pipeline__inputs__Year__KBinsDiscretizer_transform__n_bins':[5,7,10,14],\n",
    "                   'pipeline__inputs__Positive__KBinsDiscretizer_transform__n_bins':[5,7,10,14]\n",
    "                  }"
   ]
  },
  {
   "cell_type": "code",
   "execution_count": 7,
   "metadata": {},
   "outputs": [
    {
     "name": "stderr",
     "output_type": "stream",
     "text": [
      "/anaconda3/lib/python3.6/site-packages/sklearn/model_selection/_search.py:841: DeprecationWarning: The default of the `iid` parameter will change from True to False in version 0.22 and will be removed in 0.24. This will change numeric results when test-set sizes are unequal.\n",
      "  DeprecationWarning)\n"
     ]
    },
    {
     "data": {
      "text/plain": [
       "GridSearchCV(cv=5, error_score='raise-deprecating',\n",
       "       estimator=Pipeline(memory=None,\n",
       "     steps=[('pipeline', Pipeline(memory=None,\n",
       "     steps=[('inputs', FeatureUnion(n_jobs=None,\n",
       "       transformer_list=[('Age', Pipeline(memory=None,\n",
       "     steps=[('Age_selector', NumberSelector(key='Age')), ('KBinsDiscretizer_transform', KBinsDiscretizer(encode='ordinal', n_bins=15, strategy='uniform'))...obs=None,\n",
       "            oob_score=False, random_state=None, verbose=0,\n",
       "            warm_start=False))]),\n",
       "       fit_params=None, iid='warn', n_jobs=None,\n",
       "       param_grid={'estimator__max_depth': [1, 2, 4, 8], 'estimator__n_estimators': [100, 110, 120], 'estimator__class_weight': ['balanced'], 'pipeline__inputs__Age__KBinsDiscretizer_transform__n_bins': range(10, 20), 'pipeline__inputs__Year__KBinsDiscretizer_transform__n_bins': range(10, 20), 'pipeline__inputs__Positive__KBinsDiscretizer_transform__n_bins': range(10, 20)},\n",
       "       pre_dispatch='2*n_jobs', refit=True, return_train_score='warn',\n",
       "       scoring=None, verbose=0)"
      ]
     },
     "execution_count": 7,
     "metadata": {},
     "output_type": "execute_result"
    }
   ],
   "source": [
    "clf = trainC.construct_GSCV(hyperparameters)\n",
    "clf.fit(loadC.partition.X_train, loadC.partition.y_train.values.ravel())"
   ]
  },
  {
   "cell_type": "code",
   "execution_count": 8,
   "metadata": {},
   "outputs": [
    {
     "data": {
      "text/plain": [
       "{'estimator__class_weight': 'balanced',\n",
       " 'estimator__max_depth': 2,\n",
       " 'estimator__n_estimators': 100,\n",
       " 'pipeline__inputs__Age__KBinsDiscretizer_transform__n_bins': 12,\n",
       " 'pipeline__inputs__Positive__KBinsDiscretizer_transform__n_bins': 11,\n",
       " 'pipeline__inputs__Year__KBinsDiscretizer_transform__n_bins': 13}"
      ]
     },
     "execution_count": 8,
     "metadata": {},
     "output_type": "execute_result"
    }
   ],
   "source": [
    "clf.best_params_"
   ]
  },
  {
   "cell_type": "code",
   "execution_count": 9,
   "metadata": {},
   "outputs": [
    {
     "data": {
      "text/plain": [
       "True"
      ]
     },
     "execution_count": 9,
     "metadata": {},
     "output_type": "execute_result"
    }
   ],
   "source": [
    "clf.refit"
   ]
  },
  {
   "cell_type": "code",
   "execution_count": 10,
   "metadata": {},
   "outputs": [
    {
     "data": {
      "text/plain": [
       "0.6589550044113323"
      ]
     },
     "execution_count": 10,
     "metadata": {},
     "output_type": "execute_result"
    }
   ],
   "source": [
    "preds = clf.predict(loadC.partition.X_test)\n",
    "probs = clf.predict_proba(loadC.partition.X_test)\n",
    "np.mean(preds == loadC.partition.y_test.values)"
   ]
  },
  {
   "cell_type": "code",
   "execution_count": 11,
   "metadata": {},
   "outputs": [
    {
     "data": {
      "text/plain": [
       "array([[66,  8],\n",
       "       [19,  8]])"
      ]
     },
     "execution_count": 11,
     "metadata": {},
     "output_type": "execute_result"
    }
   ],
   "source": [
    "from sklearn.metrics import confusion_matrix\n",
    "confusion_matrix(loadC.partition.y_test.values, preds)"
   ]
  }
 ],
 "metadata": {
  "kernelspec": {
   "display_name": "Python 3",
   "language": "python",
   "name": "python3"
  },
  "language_info": {
   "codemirror_mode": {
    "name": "ipython",
    "version": 3
   },
   "file_extension": ".py",
   "mimetype": "text/x-python",
   "name": "python",
   "nbconvert_exporter": "python",
   "pygments_lexer": "ipython3",
   "version": "3.6.5"
  }
 },
 "nbformat": 4,
 "nbformat_minor": 2
}
