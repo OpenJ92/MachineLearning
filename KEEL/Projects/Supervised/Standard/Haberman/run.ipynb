{
 "cells": [
  {
   "cell_type": "code",
   "execution_count": 1,
   "metadata": {},
   "outputs": [],
   "source": [
    "from Helper.Load.load import Base_Load\n",
    "from Helper.Load.supervised import Supervised\n",
    "from Helper.Load.regression import Regression\n",
    "from Helper.Load.classification import Classification\n",
    "from Helper.Visual.Visual import Visual\n",
    "from Helper.Visual.classification import VClassification\n",
    "from Helper.Transform.Transform.classification import Classificaton_Transform\n",
    "from Helper.Train.Train import Train\n",
    "\n",
    "from sklearn.model_selection import GridSearchCV\n",
    "from sklearn.svm import SVC\n",
    "import numpy as np\n",
    "import matplotlib.pyplot as plt\n",
    "import pandas as pd"
   ]
  },
  {
   "cell_type": "code",
   "execution_count": 2,
   "metadata": {},
   "outputs": [],
   "source": [
    "loadC = Classification(\"Data\", \"haberman.dat\", \"haberman-names.txt\")\n",
    "transformC = Classificaton_Transform(loadC)\n",
    "trainC = Train(loadC, Classificaton_Transform, SVC)"
   ]
  },
  {
   "cell_type": "code",
   "execution_count": 3,
   "metadata": {},
   "outputs": [],
   "source": [
    "pipe = trainC.pipeline"
   ]
  },
  {
   "cell_type": "code",
   "execution_count": 4,
   "metadata": {},
   "outputs": [
    {
     "name": "stderr",
     "output_type": "stream",
     "text": [
      "/anaconda3/lib/python3.6/site-packages/sklearn/svm/base.py:196: FutureWarning: The default value of gamma will change from 'auto' to 'scale' in version 0.22 to account better for unscaled features. Set gamma explicitly to 'auto' or 'scale' to avoid this warning.\n",
      "  \"avoid this warning.\", FutureWarning)\n"
     ]
    },
    {
     "data": {
      "text/plain": [
       "Pipeline(memory=None,\n",
       "     steps=[('pipeline', Pipeline(memory=None,\n",
       "     steps=[('inputs', FeatureUnion(n_jobs=None,\n",
       "       transformer_list=[('Age', Pipeline(memory=None,\n",
       "     steps=[('Age_selector', NumberSelector(key='Age')), ('KBinsDiscretizer_transform', KBinsDiscretizer(encode='ordinal', n_bins=15, strategy='uniform'))...f', max_iter=-1, probability=False, random_state=None,\n",
       "  shrinking=True, tol=0.001, verbose=False))])"
      ]
     },
     "execution_count": 4,
     "metadata": {},
     "output_type": "execute_result"
    }
   ],
   "source": [
    "pipe.fit(loadC.partition.X_train, loadC.partition.y_train.values.flatten())"
   ]
  },
  {
   "cell_type": "code",
   "execution_count": 5,
   "metadata": {},
   "outputs": [
    {
     "data": {
      "text/plain": [
       "dict_keys(['memory', 'steps', 'pipeline', 'estimator', 'pipeline__memory', 'pipeline__steps', 'pipeline__inputs', 'pipeline__inputs__n_jobs', 'pipeline__inputs__transformer_list', 'pipeline__inputs__transformer_weights', 'pipeline__inputs__Age', 'pipeline__inputs__Year', 'pipeline__inputs__Positive', 'pipeline__inputs__Age__memory', 'pipeline__inputs__Age__steps', 'pipeline__inputs__Age__Age_selector', 'pipeline__inputs__Age__KBinsDiscretizer_transform', 'pipeline__inputs__Age__Age_selector__key', 'pipeline__inputs__Age__KBinsDiscretizer_transform__encode', 'pipeline__inputs__Age__KBinsDiscretizer_transform__n_bins', 'pipeline__inputs__Age__KBinsDiscretizer_transform__strategy', 'pipeline__inputs__Year__memory', 'pipeline__inputs__Year__steps', 'pipeline__inputs__Year__Year_selector', 'pipeline__inputs__Year__KBinsDiscretizer_transform', 'pipeline__inputs__Year__Year_selector__key', 'pipeline__inputs__Year__KBinsDiscretizer_transform__encode', 'pipeline__inputs__Year__KBinsDiscretizer_transform__n_bins', 'pipeline__inputs__Year__KBinsDiscretizer_transform__strategy', 'pipeline__inputs__Positive__memory', 'pipeline__inputs__Positive__steps', 'pipeline__inputs__Positive__Positive_selector', 'pipeline__inputs__Positive__KBinsDiscretizer_transform', 'pipeline__inputs__Positive__Positive_selector__key', 'pipeline__inputs__Positive__KBinsDiscretizer_transform__encode', 'pipeline__inputs__Positive__KBinsDiscretizer_transform__n_bins', 'pipeline__inputs__Positive__KBinsDiscretizer_transform__strategy', 'estimator__C', 'estimator__cache_size', 'estimator__class_weight', 'estimator__coef0', 'estimator__decision_function_shape', 'estimator__degree', 'estimator__gamma', 'estimator__kernel', 'estimator__max_iter', 'estimator__probability', 'estimator__random_state', 'estimator__shrinking', 'estimator__tol', 'estimator__verbose'])"
      ]
     },
     "execution_count": 5,
     "metadata": {},
     "output_type": "execute_result"
    }
   ],
   "source": [
    "pipe.get_params().keys()"
   ]
  },
  {
   "cell_type": "code",
   "execution_count": 6,
   "metadata": {},
   "outputs": [],
   "source": [
    "from sklearn.model_selection import GridSearchCV\n",
    "hyperparameters = {\n",
    "                   'estimator__gamma': np.linspace(.25, 2, 20), \n",
    "                   'estimator__kernel': ['rbf', 'linear'],\n",
    "                   'estimator__probability':[True],\n",
    "                   'pipeline__inputs__Age__KBinsDiscretizer_transform__n_bins':[5,7,10,14],\n",
    "                   'pipeline__inputs__Year__KBinsDiscretizer_transform__n_bins':[5,7,10,14],\n",
    "                   'pipeline__inputs__Positive__KBinsDiscretizer_transform__n_bins':[5,7,10,14]\n",
    "                  }"
   ]
  },
  {
   "cell_type": "code",
   "execution_count": null,
   "metadata": {},
   "outputs": [],
   "source": [
    "clf = GridSearchCV(pipe, hyperparameters, cv=5)\n",
    "clf.fit(loadC.partition.X_train, loadC.partition.y_train.values.ravel())"
   ]
  },
  {
   "cell_type": "code",
   "execution_count": null,
   "metadata": {},
   "outputs": [],
   "source": [
    "clf.best_params_"
   ]
  },
  {
   "cell_type": "code",
   "execution_count": null,
   "metadata": {},
   "outputs": [],
   "source": [
    "clf.refit"
   ]
  },
  {
   "cell_type": "code",
   "execution_count": null,
   "metadata": {},
   "outputs": [],
   "source": [
    "preds = clf.predict(loadC.partition.X_test)\n",
    "probs = clf.predict_proba(loadC.partition.X_test)\n",
    "np.mean(preds == loadC.partition.y_test.values)"
   ]
  },
  {
   "cell_type": "code",
   "execution_count": null,
   "metadata": {},
   "outputs": [],
   "source": [
    "from sklearn.metrics import confusion_matrix\n",
    "confusion_matrix(loadC.partition.y_test.values, preds)"
   ]
  }
 ],
 "metadata": {
  "kernelspec": {
   "display_name": "Python 3",
   "language": "python",
   "name": "python3"
  },
  "language_info": {
   "codemirror_mode": {
    "name": "ipython",
    "version": 3
   },
   "file_extension": ".py",
   "mimetype": "text/x-python",
   "name": "python",
   "nbconvert_exporter": "python",
   "pygments_lexer": "ipython3",
   "version": "3.6.5"
  }
 },
 "nbformat": 4,
 "nbformat_minor": 2
}
