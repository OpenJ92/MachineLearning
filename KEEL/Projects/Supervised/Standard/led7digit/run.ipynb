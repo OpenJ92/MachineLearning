{
 "cells": [
  {
   "cell_type": "markdown",
   "metadata": {},
   "source": [
    "LED Display Domain data set\n",
    "\n",
    "Description.\n",
    "\n",
    "This simple domain contains 7 Boolean attributes, one for each light-emitting diode of a 7-segment display. The task is to determine which digit is been shown in the display. The problem would be easy if not for the introduction of noise. In this case, each attribute value has the 10% probability of having its value inverted.  \n",
    "\n",
    "@attribute Led1 integer [0, 1]  \n",
    "@attribute Led2 integer [0, 1]  \n",
    "@attribute Led3 integer [0, 1]  \n",
    "@attribute Led4 integer [0, 1]  \n",
    "@attribute Led5 integer [0, 1]  \n",
    "@attribute Led6 integer [0, 1]  \n",
    "@attribute Led7 integer [0, 1]  \n",
    "@attribute Number {0,1,2,3,4,5,6,7,8,9}  \n",
    "@inputs Led1, Led2, Led3, Led4, Led5, Led6, Led7  \n",
    "@outputs Number  \n",
    "\n",
    "The following experiment makes use of sklearn.ensemble RandomForestClassifier."
   ]
  },
  {
   "cell_type": "code",
   "execution_count": 1,
   "metadata": {},
   "outputs": [],
   "source": [
    "from Helper.Load.classification import Classification\n",
    "from Helper.Visual.classification import VClassification\n",
    "from Helper.Transform.Transform.classification import Classificaton_Transform\n",
    "from Helper.Train.Train import Train\n",
    "\n",
    "from sklearn.ensemble import RandomForestClassifier\n",
    "import numpy as np\n",
    "import matplotlib.pyplot as plt\n",
    "import pandas as pd"
   ]
  },
  {
   "cell_type": "code",
   "execution_count": 2,
   "metadata": {},
   "outputs": [],
   "source": [
    "loadC = Classification(\"Data\", \"led7digit.dat\", \"led7digit-names.txt\")\n",
    "# from Experiment.experiment1.columns import Column_pipeline_Dictionary\n",
    "from Data.columns import Column_pipeline_Dictionary # Note: In master Helper directory, we made changes to Base_transform \n",
    "                                                    # s.t. it accepts a dictionary of pipelines which dictate the transforms\n",
    "                                                    # to each column. We also will have a dictionary which transforms inputs at\n",
    "                                                    # at a global level. Base Transform should also have an attribute which shows\n",
    "                                                    # the possible hyperparameters that can be adjusted in our cross validation.\n",
    "transformC = Classificaton_Transform(loadC)\n",
    "# from Experiment.experiment1.hyperparameters import hyperparameters\n",
    "from Data.hyperparameters import hyperparameters\n",
    "trainC = Train(loadC, Classificaton_Transform, RandomForestClassifier)"
   ]
  },
  {
   "cell_type": "markdown",
   "metadata": {},
   "source": [
    "<img src=\"Data/Visual/Andrew.png\">\n",
    "Andrew Curve displaying raw data."
   ]
  },
  {
   "cell_type": "markdown",
   "metadata": {},
   "source": [
    "<img src=\"Data/Visual/ClassBalance.png\">"
   ]
  },
  {
   "cell_type": "code",
   "execution_count": 13,
   "metadata": {},
   "outputs": [
    {
     "data": {
      "text/html": [
       "<div>\n",
       "<style scoped>\n",
       "    .dataframe tbody tr th:only-of-type {\n",
       "        vertical-align: middle;\n",
       "    }\n",
       "\n",
       "    .dataframe tbody tr th {\n",
       "        vertical-align: top;\n",
       "    }\n",
       "\n",
       "    .dataframe thead th {\n",
       "        text-align: right;\n",
       "    }\n",
       "</style>\n",
       "<table border=\"1\" class=\"dataframe\">\n",
       "  <thead>\n",
       "    <tr style=\"text-align: right;\">\n",
       "      <th></th>\n",
       "      <th>Led1</th>\n",
       "      <th>Led2</th>\n",
       "      <th>Led3</th>\n",
       "      <th>Led4</th>\n",
       "      <th>Led5</th>\n",
       "      <th>Led6</th>\n",
       "      <th>Led7</th>\n",
       "      <th>Number</th>\n",
       "    </tr>\n",
       "  </thead>\n",
       "  <tbody>\n",
       "    <tr>\n",
       "      <th>0</th>\n",
       "      <td>1</td>\n",
       "      <td>0</td>\n",
       "      <td>1</td>\n",
       "      <td>1</td>\n",
       "      <td>0</td>\n",
       "      <td>1</td>\n",
       "      <td>1</td>\n",
       "      <td>3</td>\n",
       "    </tr>\n",
       "    <tr>\n",
       "      <th>1</th>\n",
       "      <td>1</td>\n",
       "      <td>1</td>\n",
       "      <td>1</td>\n",
       "      <td>0</td>\n",
       "      <td>0</td>\n",
       "      <td>1</td>\n",
       "      <td>0</td>\n",
       "      <td>4</td>\n",
       "    </tr>\n",
       "    <tr>\n",
       "      <th>2</th>\n",
       "      <td>0</td>\n",
       "      <td>1</td>\n",
       "      <td>1</td>\n",
       "      <td>1</td>\n",
       "      <td>1</td>\n",
       "      <td>1</td>\n",
       "      <td>1</td>\n",
       "      <td>8</td>\n",
       "    </tr>\n",
       "    <tr>\n",
       "      <th>3</th>\n",
       "      <td>1</td>\n",
       "      <td>0</td>\n",
       "      <td>1</td>\n",
       "      <td>0</td>\n",
       "      <td>0</td>\n",
       "      <td>1</td>\n",
       "      <td>0</td>\n",
       "      <td>7</td>\n",
       "    </tr>\n",
       "    <tr>\n",
       "      <th>4</th>\n",
       "      <td>1</td>\n",
       "      <td>1</td>\n",
       "      <td>1</td>\n",
       "      <td>0</td>\n",
       "      <td>1</td>\n",
       "      <td>1</td>\n",
       "      <td>1</td>\n",
       "      <td>0</td>\n",
       "    </tr>\n",
       "  </tbody>\n",
       "</table>\n",
       "</div>"
      ],
      "text/plain": [
       "   Led1  Led2  Led3  Led4  Led5  Led6  Led7  Number\n",
       "0     1     0     1     1     0     1     1       3\n",
       "1     1     1     1     0     0     1     0       4\n",
       "2     0     1     1     1     1     1     1       8\n",
       "3     1     0     1     0     0     1     0       7\n",
       "4     1     1     1     0     1     1     1       0"
      ]
     },
     "execution_count": 13,
     "metadata": {},
     "output_type": "execute_result"
    }
   ],
   "source": [
    "#loadC.data.head()\n",
    "transformC.data.head()"
   ]
  },
  {
   "cell_type": "code",
   "execution_count": 4,
   "metadata": {},
   "outputs": [],
   "source": [
    "pipe = trainC.pipeline"
   ]
  },
  {
   "cell_type": "code",
   "execution_count": 5,
   "metadata": {},
   "outputs": [
    {
     "data": {
      "text/plain": [
       "dict_keys(['memory', 'steps', 'inputs_pipeline', 'estimator', 'inputs_pipeline__memory', 'inputs_pipeline__steps', 'inputs_pipeline__inputs', 'inputs_pipeline__inputs__n_jobs', 'inputs_pipeline__inputs__transformer_list', 'inputs_pipeline__inputs__transformer_weights', 'inputs_pipeline__inputs__Led1', 'inputs_pipeline__inputs__Led2', 'inputs_pipeline__inputs__Led3', 'inputs_pipeline__inputs__Led4', 'inputs_pipeline__inputs__Led5', 'inputs_pipeline__inputs__Led6', 'inputs_pipeline__inputs__Led7', 'inputs_pipeline__inputs__Led1__memory', 'inputs_pipeline__inputs__Led1__steps', 'inputs_pipeline__inputs__Led1__Led1_selector', 'inputs_pipeline__inputs__Led1___LabelBinarizer_transform', 'inputs_pipeline__inputs__Led1__Led1_selector__key', 'inputs_pipeline__inputs__Led2__memory', 'inputs_pipeline__inputs__Led2__steps', 'inputs_pipeline__inputs__Led2__Led2_selector', 'inputs_pipeline__inputs__Led2___LabelBinarizer_transform', 'inputs_pipeline__inputs__Led2__Led2_selector__key', 'inputs_pipeline__inputs__Led3__memory', 'inputs_pipeline__inputs__Led3__steps', 'inputs_pipeline__inputs__Led3__Led3_selector', 'inputs_pipeline__inputs__Led3___LabelBinarizer_transform', 'inputs_pipeline__inputs__Led3__Led3_selector__key', 'inputs_pipeline__inputs__Led4__memory', 'inputs_pipeline__inputs__Led4__steps', 'inputs_pipeline__inputs__Led4__Led4_selector', 'inputs_pipeline__inputs__Led4___LabelBinarizer_transform', 'inputs_pipeline__inputs__Led4__Led4_selector__key', 'inputs_pipeline__inputs__Led5__memory', 'inputs_pipeline__inputs__Led5__steps', 'inputs_pipeline__inputs__Led5__Led5_selector', 'inputs_pipeline__inputs__Led5___LabelBinarizer_transform', 'inputs_pipeline__inputs__Led5__Led5_selector__key', 'inputs_pipeline__inputs__Led6__memory', 'inputs_pipeline__inputs__Led6__steps', 'inputs_pipeline__inputs__Led6__Led6_selector', 'inputs_pipeline__inputs__Led6___LabelBinarizer_transform', 'inputs_pipeline__inputs__Led6__Led6_selector__key', 'inputs_pipeline__inputs__Led7__memory', 'inputs_pipeline__inputs__Led7__steps', 'inputs_pipeline__inputs__Led7__Led7_selector', 'inputs_pipeline__inputs__Led7___LabelBinarizer_transform', 'inputs_pipeline__inputs__Led7__Led7_selector__key', 'estimator__bootstrap', 'estimator__class_weight', 'estimator__criterion', 'estimator__max_depth', 'estimator__max_features', 'estimator__max_leaf_nodes', 'estimator__min_impurity_decrease', 'estimator__min_impurity_split', 'estimator__min_samples_leaf', 'estimator__min_samples_split', 'estimator__min_weight_fraction_leaf', 'estimator__n_estimators', 'estimator__n_jobs', 'estimator__oob_score', 'estimator__random_state', 'estimator__verbose', 'estimator__warm_start'])"
      ]
     },
     "execution_count": 5,
     "metadata": {},
     "output_type": "execute_result"
    }
   ],
   "source": [
    "pipe.get_params().keys()"
   ]
  },
  {
   "cell_type": "code",
   "execution_count": 6,
   "metadata": {},
   "outputs": [
    {
     "data": {
      "text/plain": [
       "{'estimator__max_depth': [1, 2, 4, 8, 10],\n",
       " 'estimator__n_estimators': [100, 110, 120, 200, 250, 300],\n",
       " 'estimator__class_weight': ['balanced']}"
      ]
     },
     "execution_count": 6,
     "metadata": {},
     "output_type": "execute_result"
    }
   ],
   "source": [
    "hyperparameters"
   ]
  },
  {
   "cell_type": "code",
   "execution_count": 7,
   "metadata": {},
   "outputs": [
    {
     "name": "stderr",
     "output_type": "stream",
     "text": [
      "/anaconda3/lib/python3.6/site-packages/sklearn/model_selection/_search.py:841: DeprecationWarning: The default of the `iid` parameter will change from True to False in version 0.22 and will be removed in 0.24. This will change numeric results when test-set sizes are unequal.\n",
      "  DeprecationWarning)\n"
     ]
    }
   ],
   "source": [
    "clf = trainC.fit_GSCV(hyperparameters)"
   ]
  },
  {
   "cell_type": "code",
   "execution_count": 8,
   "metadata": {},
   "outputs": [
    {
     "data": {
      "text/plain": [
       "{'estimator__class_weight': 'balanced',\n",
       " 'estimator__max_depth': 4,\n",
       " 'estimator__n_estimators': 120}"
      ]
     },
     "execution_count": 8,
     "metadata": {},
     "output_type": "execute_result"
    }
   ],
   "source": [
    "clf.best_params_"
   ]
  },
  {
   "cell_type": "code",
   "execution_count": 9,
   "metadata": {},
   "outputs": [
    {
     "data": {
      "text/plain": [
       "True"
      ]
     },
     "execution_count": 9,
     "metadata": {},
     "output_type": "execute_result"
    }
   ],
   "source": [
    "clf.refit"
   ]
  },
  {
   "cell_type": "code",
   "execution_count": 10,
   "metadata": {},
   "outputs": [
    {
     "data": {
      "text/plain": [
       "0.7393939393939394"
      ]
     },
     "execution_count": 10,
     "metadata": {},
     "output_type": "execute_result"
    }
   ],
   "source": [
    "preds = clf.predict(loadC.partition.X_test)\n",
    "probs = clf.predict_proba(loadC.partition.X_test)\n",
    "np.mean(preds == loadC.partition.y_test.values.ravel())"
   ]
  },
  {
   "cell_type": "code",
   "execution_count": 11,
   "metadata": {},
   "outputs": [
    {
     "data": {
      "text/plain": [
       "array([[10,  1,  0,  0,  0,  0,  1,  0,  1,  2],\n",
       "       [ 0,  9,  0,  1,  0,  0,  0,  2,  0,  0],\n",
       "       [ 0,  0, 13,  3,  0,  0,  1,  0,  0,  0],\n",
       "       [ 0,  0,  0, 15,  1,  1,  0,  0,  0,  2],\n",
       "       [ 0,  0,  0,  0, 14,  1,  0,  0,  0,  2],\n",
       "       [ 0,  0,  0,  0,  0, 16,  1,  0,  0,  0],\n",
       "       [ 0,  0,  0,  0,  0,  1, 13,  0,  2,  0],\n",
       "       [ 1,  2,  2,  0,  0,  1,  0, 13,  0,  0],\n",
       "       [ 1,  0,  3,  1,  0,  1,  2,  0,  8,  1],\n",
       "       [ 0,  0,  2,  0,  0,  0,  0,  0,  3, 11]])"
      ]
     },
     "execution_count": 11,
     "metadata": {},
     "output_type": "execute_result"
    }
   ],
   "source": [
    "from sklearn.metrics import confusion_matrix, classification_report\n",
    "confusion_matrix(loadC.partition.y_test.values, preds)"
   ]
  },
  {
   "cell_type": "code",
   "execution_count": 12,
   "metadata": {},
   "outputs": [
    {
     "name": "stdout",
     "output_type": "stream",
     "text": [
      "              precision    recall  f1-score   support\n",
      "\n",
      "           0       0.83      0.67      0.74        15\n",
      "           1       0.75      0.75      0.75        12\n",
      "           2       0.65      0.76      0.70        17\n",
      "           3       0.75      0.79      0.77        19\n",
      "           4       0.93      0.82      0.87        17\n",
      "           5       0.76      0.94      0.84        17\n",
      "           6       0.72      0.81      0.76        16\n",
      "           7       0.87      0.68      0.76        19\n",
      "           8       0.57      0.47      0.52        17\n",
      "           9       0.61      0.69      0.65        16\n",
      "\n",
      "   micro avg       0.74      0.74      0.74       165\n",
      "   macro avg       0.74      0.74      0.74       165\n",
      "weighted avg       0.75      0.74      0.74       165\n",
      "\n"
     ]
    }
   ],
   "source": [
    "print(classification_report(loadC.partition.y_test.values, preds))"
   ]
  }
 ],
 "metadata": {
  "kernelspec": {
   "display_name": "Python 3",
   "language": "python",
   "name": "python3"
  },
  "language_info": {
   "codemirror_mode": {
    "name": "ipython",
    "version": 3
   },
   "file_extension": ".py",
   "mimetype": "text/x-python",
   "name": "python",
   "nbconvert_exporter": "python",
   "pygments_lexer": "ipython3",
   "version": "3.6.5"
  }
 },
 "nbformat": 4,
 "nbformat_minor": 2
}
