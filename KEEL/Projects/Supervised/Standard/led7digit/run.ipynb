{
 "cells": [
  {
   "cell_type": "markdown",
   "metadata": {},
   "source": [
    "LED Display Domain data set\n",
    "\n",
    "Description.\n",
    "\n",
    "This simple domain contains 7 Boolean attributes, one for each light-emitting diode of a 7-segment display. The task is to determine which digit is been shown in the display. The problem would be easy if not for the introduction of noise. In this case, each attribute value has the 10% probability of having its value inverted.  \n",
    "\n",
    "@attribute Led1 integer [0, 1]  \n",
    "@attribute Led2 integer [0, 1]  \n",
    "@attribute Led3 integer [0, 1]  \n",
    "@attribute Led4 integer [0, 1]  \n",
    "@attribute Led5 integer [0, 1]  \n",
    "@attribute Led6 integer [0, 1]  \n",
    "@attribute Led7 integer [0, 1]  \n",
    "@attribute Number {0,1,2,3,4,5,6,7,8,9}  \n",
    "@inputs Led1, Led2, Led3, Led4, Led5, Led6, Led7  \n",
    "@outputs Number  \n",
    "\n",
    "The following experiment makes use of sklearn.ensemble RandomForestClassifier."
   ]
  },
  {
   "cell_type": "code",
   "execution_count": 1,
   "metadata": {},
   "outputs": [],
   "source": [
    "from Helper.Load.classification import Classification\n",
    "from Helper.Visual.classification import VClassification\n",
    "from Helper.Transform.Transform.classification import Classificaton_Transform\n",
    "from Helper.Train.Train import Train\n",
    "\n",
    "from sklearn.ensemble import RandomForestClassifier, AdaBoostClassifier\n",
    "from sklearn.decomposition import PCA\n",
    "from sklearn.discriminant_analysis import LinearDiscriminantAnalysis\n",
    "import numpy as np\n",
    "import matplotlib.pyplot as plt\n",
    "import pandas as pd"
   ]
  },
  {
   "cell_type": "code",
   "execution_count": 2,
   "metadata": {},
   "outputs": [
    {
     "name": "stderr",
     "output_type": "stream",
     "text": [
      "/anaconda3/lib/python3.6/site-packages/sklearn/utils/validation.py:761: DataConversionWarning: A column-vector y was passed when a 1d array was expected. Please change the shape of y to (n_samples, ), for example using ravel().\n",
      "  y = column_or_1d(y, warn=True)\n"
     ]
    }
   ],
   "source": [
    "loadC = Classification(\"Data\", \"led7digit.dat\", \"led7digit-names.txt\")\n",
    "\n",
    "from Data.columns import Column_pipeline_Dictionary \n",
    "transformC = Classificaton_Transform(loadC, Column_pipeline_Dictionary, PCA)\n",
    "\n",
    "from Data.hyperparameters import hyperparameters\n",
    "trainC = Train(loadC, RandomForestClassifier, Classificaton_Transform, Column_pipeline_Dictionary, LinearDiscriminantAnalysis, hyperparameters)"
   ]
  },
  {
   "cell_type": "markdown",
   "metadata": {},
   "source": [
    "<img src=\"Data/Visual/Andrew.png\">\n",
    "Andrew Curve displaying raw data."
   ]
  },
  {
   "cell_type": "markdown",
   "metadata": {},
   "source": [
    "<img src=\"Data/Visual/ClassBalance.png\">"
   ]
  },
  {
   "cell_type": "code",
   "execution_count": 3,
   "metadata": {},
   "outputs": [
    {
     "data": {
      "text/plain": [
       "array([[ 0.0648154 , -0.23899667, -0.73640013, ..., -0.38932678,\n",
       "        -0.20060666, -0.34705251],\n",
       "       [ 0.59056432,  0.14239868,  0.48520671, ..., -0.4656214 ,\n",
       "         0.54182567,  0.30357427],\n",
       "       [-0.4667262 ,  0.31951307,  0.44353668, ..., -0.00671374,\n",
       "        -0.53740309, -0.08168464],\n",
       "       ...,\n",
       "       [ 1.18473006,  0.35401048,  0.1048216 , ...,  0.83809527,\n",
       "        -0.23440785, -0.09032111],\n",
       "       [ 0.0648154 , -0.23899667, -0.73640013, ..., -0.38932678,\n",
       "        -0.20060666, -0.34705251],\n",
       "       [ 1.04268836, -0.39221496,  0.04141146, ..., -0.22837206,\n",
       "         0.29380685, -0.13798448]])"
      ]
     },
     "execution_count": 3,
     "metadata": {},
     "output_type": "execute_result"
    }
   ],
   "source": [
    "#loadC.data.head()\n",
    "transformC.data"
   ]
  },
  {
   "cell_type": "code",
   "execution_count": 4,
   "metadata": {},
   "outputs": [],
   "source": [
    "pipe = trainC.pipeline"
   ]
  },
  {
   "cell_type": "code",
   "execution_count": 5,
   "metadata": {},
   "outputs": [
    {
     "data": {
      "text/plain": [
       "dict_keys(['memory', 'steps', 'inputs_pipeline', 'global', 'estimator', 'inputs_pipeline__memory', 'inputs_pipeline__steps', 'inputs_pipeline__inputs', 'inputs_pipeline__inputs__n_jobs', 'inputs_pipeline__inputs__transformer_list', 'inputs_pipeline__inputs__transformer_weights', 'inputs_pipeline__inputs__Led1', 'inputs_pipeline__inputs__Led2', 'inputs_pipeline__inputs__Led3', 'inputs_pipeline__inputs__Led4', 'inputs_pipeline__inputs__Led5', 'inputs_pipeline__inputs__Led6', 'inputs_pipeline__inputs__Led7', 'inputs_pipeline__inputs__Led1__memory', 'inputs_pipeline__inputs__Led1__steps', 'inputs_pipeline__inputs__Led1__Led1_selector', 'inputs_pipeline__inputs__Led1___LabelBinarizer_transform', 'inputs_pipeline__inputs__Led1__Led1_selector__key', 'inputs_pipeline__inputs__Led2__memory', 'inputs_pipeline__inputs__Led2__steps', 'inputs_pipeline__inputs__Led2__Led2_selector', 'inputs_pipeline__inputs__Led2___LabelBinarizer_transform', 'inputs_pipeline__inputs__Led2__Led2_selector__key', 'inputs_pipeline__inputs__Led3__memory', 'inputs_pipeline__inputs__Led3__steps', 'inputs_pipeline__inputs__Led3__Led3_selector', 'inputs_pipeline__inputs__Led3___LabelBinarizer_transform', 'inputs_pipeline__inputs__Led3__Led3_selector__key', 'inputs_pipeline__inputs__Led4__memory', 'inputs_pipeline__inputs__Led4__steps', 'inputs_pipeline__inputs__Led4__Led4_selector', 'inputs_pipeline__inputs__Led4___LabelBinarizer_transform', 'inputs_pipeline__inputs__Led4__Led4_selector__key', 'inputs_pipeline__inputs__Led5__memory', 'inputs_pipeline__inputs__Led5__steps', 'inputs_pipeline__inputs__Led5__Led5_selector', 'inputs_pipeline__inputs__Led5___LabelBinarizer_transform', 'inputs_pipeline__inputs__Led5__Led5_selector__key', 'inputs_pipeline__inputs__Led6__memory', 'inputs_pipeline__inputs__Led6__steps', 'inputs_pipeline__inputs__Led6__Led6_selector', 'inputs_pipeline__inputs__Led6___LabelBinarizer_transform', 'inputs_pipeline__inputs__Led6__Led6_selector__key', 'inputs_pipeline__inputs__Led7__memory', 'inputs_pipeline__inputs__Led7__steps', 'inputs_pipeline__inputs__Led7__Led7_selector', 'inputs_pipeline__inputs__Led7___LabelBinarizer_transform', 'inputs_pipeline__inputs__Led7__Led7_selector__key', 'global__memory', 'global__steps', 'global__globals', 'global__globals__n_components', 'global__globals__priors', 'global__globals__shrinkage', 'global__globals__solver', 'global__globals__store_covariance', 'global__globals__tol', 'estimator__bootstrap', 'estimator__class_weight', 'estimator__criterion', 'estimator__max_depth', 'estimator__max_features', 'estimator__max_leaf_nodes', 'estimator__min_impurity_decrease', 'estimator__min_impurity_split', 'estimator__min_samples_leaf', 'estimator__min_samples_split', 'estimator__min_weight_fraction_leaf', 'estimator__n_estimators', 'estimator__n_jobs', 'estimator__oob_score', 'estimator__random_state', 'estimator__verbose', 'estimator__warm_start'])"
      ]
     },
     "execution_count": 5,
     "metadata": {},
     "output_type": "execute_result"
    }
   ],
   "source": [
    "pipe.get_params().keys()"
   ]
  },
  {
   "cell_type": "code",
   "execution_count": 6,
   "metadata": {},
   "outputs": [
    {
     "data": {
      "text/plain": [
       "{'estimator__max_depth': [1, 2, 4, 8, 10],\n",
       " 'estimator__n_estimators': [100, 110, 120, 200, 250, 300],\n",
       " 'estimator__class_weight': ['balanced'],\n",
       " 'global__globals__n_components': [1, 2, 3, 4, 5, 6, 7]}"
      ]
     },
     "execution_count": 6,
     "metadata": {},
     "output_type": "execute_result"
    }
   ],
   "source": [
    "hyperparameters"
   ]
  },
  {
   "cell_type": "code",
   "execution_count": 7,
   "metadata": {},
   "outputs": [
    {
     "name": "stderr",
     "output_type": "stream",
     "text": [
      "/anaconda3/lib/python3.6/site-packages/sklearn/model_selection/_search.py:841: DeprecationWarning: The default of the `iid` parameter will change from True to False in version 0.22 and will be removed in 0.24. This will change numeric results when test-set sizes are unequal.\n",
      "  DeprecationWarning)\n"
     ]
    }
   ],
   "source": [
    "clf = trainC.fit_GSCV()"
   ]
  },
  {
   "cell_type": "code",
   "execution_count": 8,
   "metadata": {},
   "outputs": [
    {
     "data": {
      "text/plain": [
       "{'estimator__class_weight': 'balanced',\n",
       " 'estimator__max_depth': 2,\n",
       " 'estimator__n_estimators': 110,\n",
       " 'global__globals__n_components': 7}"
      ]
     },
     "execution_count": 8,
     "metadata": {},
     "output_type": "execute_result"
    }
   ],
   "source": [
    "clf.best_params_"
   ]
  },
  {
   "cell_type": "code",
   "execution_count": 9,
   "metadata": {},
   "outputs": [
    {
     "data": {
      "text/plain": [
       "0.7393939393939394"
      ]
     },
     "execution_count": 9,
     "metadata": {},
     "output_type": "execute_result"
    }
   ],
   "source": [
    "preds = clf.predict(loadC.partition.X_test)\n",
    "np.mean(preds == loadC.partition.y_test.values.ravel())"
   ]
  },
  {
   "cell_type": "code",
   "execution_count": 10,
   "metadata": {},
   "outputs": [
    {
     "data": {
      "text/plain": [
       "array([[11,  0,  0,  0,  0,  0,  1,  0,  1,  2],\n",
       "       [ 0,  8,  0,  1,  0,  1,  0,  2,  0,  0],\n",
       "       [ 0,  0, 15,  0,  1,  0,  1,  0,  0,  0],\n",
       "       [ 0,  1,  1, 14,  0,  1,  0,  0,  0,  2],\n",
       "       [ 0,  1,  0,  0, 13,  1,  0,  0,  0,  2],\n",
       "       [ 0,  0,  0,  0,  0, 16,  1,  0,  0,  0],\n",
       "       [ 0,  0,  0,  0,  0,  1, 13,  0,  2,  0],\n",
       "       [ 1,  2,  2,  0,  1,  1,  0, 12,  0,  0],\n",
       "       [ 1,  0,  1,  2,  0,  1,  2,  0,  9,  1],\n",
       "       [ 0,  0,  2,  0,  0,  0,  0,  0,  3, 11]])"
      ]
     },
     "execution_count": 10,
     "metadata": {},
     "output_type": "execute_result"
    }
   ],
   "source": [
    "from sklearn.metrics import confusion_matrix, classification_report\n",
    "confusion_matrix(loadC.partition.y_test.values, preds)"
   ]
  },
  {
   "cell_type": "code",
   "execution_count": 11,
   "metadata": {},
   "outputs": [
    {
     "name": "stdout",
     "output_type": "stream",
     "text": [
      "              precision    recall  f1-score   support\n",
      "\n",
      "           0       0.85      0.73      0.79        15\n",
      "           1       0.67      0.67      0.67        12\n",
      "           2       0.71      0.88      0.79        17\n",
      "           3       0.82      0.74      0.78        19\n",
      "           4       0.87      0.76      0.81        17\n",
      "           5       0.73      0.94      0.82        17\n",
      "           6       0.72      0.81      0.76        16\n",
      "           7       0.86      0.63      0.73        19\n",
      "           8       0.60      0.53      0.56        17\n",
      "           9       0.61      0.69      0.65        16\n",
      "\n",
      "   micro avg       0.74      0.74      0.74       165\n",
      "   macro avg       0.74      0.74      0.74       165\n",
      "weighted avg       0.75      0.74      0.74       165\n",
      "\n"
     ]
    }
   ],
   "source": [
    "print(classification_report(loadC.partition.y_test.values, preds))"
   ]
  },
  {
   "cell_type": "code",
   "execution_count": 25,
   "metadata": {},
   "outputs": [
    {
     "data": {
      "image/png": "[encoded data removed]",
      "text/plain": [
       "<Figure size 1440x720 with 1 Axes>"
      ]
     },
     "metadata": {
      "needs_background": "light"
     },
     "output_type": "display_data"
    }
   ],
   "source": [
    "import matplotlib\n",
    "import matplotlib.pyplot as plt\n",
    "\n",
    "plt.rcParams[\"figure.figsize\"] = (20,10)\n",
    "\n",
    "class_ = np.unique(loadC.data[loadC.outputs].values)\n",
    "\n",
    "harvest = confusion_matrix(loadC.partition.y_test.values, preds)\n",
    "\n",
    "fig, ax = plt.subplots()\n",
    "im = ax.imshow(harvest)\n",
    "\n",
    "ax.set_xticks(np.arange(len(class_)))\n",
    "ax.set_yticks(np.arange(len(class_)))\n",
    "\n",
    "ax.set_xticklabels(class_)\n",
    "ax.set_yticklabels(class_)\n",
    "\n",
    "plt.setp(ax.get_xticklabels(), rotation=45, ha=\"right\",\n",
    "         rotation_mode=\"anchor\")\n",
    "\n",
    "for i in range(len(class_)):\n",
    "    for j in range(len(class_)):\n",
    "        text = ax.text(j, i, harvest[i, j],\n",
    "                       ha=\"center\", va=\"center\", color=\"w\")\n",
    "\n",
    "ax.set_title(\"Confusion Matrix\")\n",
    "fig.tight_layout()\n",
    "plt.show()"
   ]
  }
 ],
 "metadata": {
  "kernelspec": {
   "display_name": "Python 3",
   "language": "python",
   "name": "python3"
  },
  "language_info": {
   "codemirror_mode": {
    "name": "ipython",
    "version": 3
   },
   "file_extension": ".py",
   "mimetype": "text/x-python",
   "name": "python",
   "nbconvert_exporter": "python",
   "pygments_lexer": "ipython3",
   "version": "3.6.5"
  }
 },
 "nbformat": 4,
 "nbformat_minor": 2
}
