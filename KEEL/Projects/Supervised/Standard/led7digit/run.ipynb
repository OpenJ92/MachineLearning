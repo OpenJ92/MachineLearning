{
 "cells": [
  {
   "cell_type": "code",
   "execution_count": 1,
   "metadata": {},
   "outputs": [],
   "source": [
    "from Helper.Load.load import Base_Load\n",
    "from Helper.Load.supervised import Supervised\n",
    "from Helper.Load.regression import Regression\n",
    "from Helper.Load.classification import Classification\n",
    "from Helper.Visual.Visual import Visual\n",
    "from Helper.Visual.classification import VClassification\n",
    "from Helper.Transform.Transform.classification import Classificaton_Transform\n",
    "from Helper.Train.Train import Train\n",
    "\n",
    "from sklearn.model_selection import GridSearchCV\n",
    "from sklearn.svm import SVC\n",
    "from sklearn.ensemble import RandomForestClassifier\n",
    "import numpy as np\n",
    "import matplotlib.pyplot as plt\n",
    "import pandas as pd"
   ]
  },
  {
   "cell_type": "code",
   "execution_count": 2,
   "metadata": {},
   "outputs": [
    {
     "name": "stdout",
     "output_type": "stream",
     "text": [
      "> /Users/jacob/Desktop/Project/MachineLearning/KEEL/Projects/Supervised/Standard/led7digit/Helper/Transform/Transform/classification.py(32)visual_data()\n",
      "-> return pd.DataFrame(self.featureU().transform(data), columns=data.columns)\n"
     ]
    },
    {
     "name": "stdin",
     "output_type": "stream",
     "text": [
      "(Pdb)  c\n"
     ]
    },
    {
     "name": "stdout",
     "output_type": "stream",
     "text": [
      "> /Users/jacob/Desktop/Project/MachineLearning/KEEL/Projects/Supervised/Standard/led7digit/Helper/Transform/Transform/classification.py(32)visual_data()\n",
      "-> return pd.DataFrame(self.featureU().transform(data), columns=data.columns)\n"
     ]
    },
    {
     "name": "stdin",
     "output_type": "stream",
     "text": [
      "(Pdb)  c\n"
     ]
    }
   ],
   "source": [
    "loadC = Classification(\"Data\", \"led7digit.dat\", \"led7digit-names.txt\")\n",
    "transformC = Classificaton_Transform(loadC)\n",
    "trainC = Train(loadC, Classificaton_Transform, RandomForestClassifier)"
   ]
  },
  {
   "cell_type": "code",
   "execution_count": 3,
   "metadata": {},
   "outputs": [
    {
     "data": {
      "text/html": [
       "<div>\n",
       "<style scoped>\n",
       "    .dataframe tbody tr th:only-of-type {\n",
       "        vertical-align: middle;\n",
       "    }\n",
       "\n",
       "    .dataframe tbody tr th {\n",
       "        vertical-align: top;\n",
       "    }\n",
       "\n",
       "    .dataframe thead th {\n",
       "        text-align: right;\n",
       "    }\n",
       "</style>\n",
       "<table border=\"1\" class=\"dataframe\">\n",
       "  <thead>\n",
       "    <tr style=\"text-align: right;\">\n",
       "      <th></th>\n",
       "      <th>Led1</th>\n",
       "      <th>Led2</th>\n",
       "      <th>Led3</th>\n",
       "      <th>Led4</th>\n",
       "      <th>Led5</th>\n",
       "      <th>Led6</th>\n",
       "      <th>Led7</th>\n",
       "      <th>Number</th>\n",
       "    </tr>\n",
       "  </thead>\n",
       "  <tbody>\n",
       "    <tr>\n",
       "      <th>0</th>\n",
       "      <td>1</td>\n",
       "      <td>0</td>\n",
       "      <td>1</td>\n",
       "      <td>1</td>\n",
       "      <td>0</td>\n",
       "      <td>1</td>\n",
       "      <td>1</td>\n",
       "      <td>3</td>\n",
       "    </tr>\n",
       "    <tr>\n",
       "      <th>1</th>\n",
       "      <td>1</td>\n",
       "      <td>1</td>\n",
       "      <td>1</td>\n",
       "      <td>0</td>\n",
       "      <td>0</td>\n",
       "      <td>1</td>\n",
       "      <td>0</td>\n",
       "      <td>4</td>\n",
       "    </tr>\n",
       "    <tr>\n",
       "      <th>2</th>\n",
       "      <td>0</td>\n",
       "      <td>1</td>\n",
       "      <td>1</td>\n",
       "      <td>1</td>\n",
       "      <td>1</td>\n",
       "      <td>1</td>\n",
       "      <td>1</td>\n",
       "      <td>8</td>\n",
       "    </tr>\n",
       "    <tr>\n",
       "      <th>3</th>\n",
       "      <td>1</td>\n",
       "      <td>0</td>\n",
       "      <td>1</td>\n",
       "      <td>0</td>\n",
       "      <td>0</td>\n",
       "      <td>1</td>\n",
       "      <td>0</td>\n",
       "      <td>7</td>\n",
       "    </tr>\n",
       "    <tr>\n",
       "      <th>4</th>\n",
       "      <td>1</td>\n",
       "      <td>1</td>\n",
       "      <td>1</td>\n",
       "      <td>0</td>\n",
       "      <td>1</td>\n",
       "      <td>1</td>\n",
       "      <td>1</td>\n",
       "      <td>0</td>\n",
       "    </tr>\n",
       "  </tbody>\n",
       "</table>\n",
       "</div>"
      ],
      "text/plain": [
       "   Led1  Led2  Led3  Led4  Led5  Led6  Led7  Number\n",
       "0     1     0     1     1     0     1     1       3\n",
       "1     1     1     1     0     0     1     0       4\n",
       "2     0     1     1     1     1     1     1       8\n",
       "3     1     0     1     0     0     1     0       7\n",
       "4     1     1     1     0     1     1     1       0"
      ]
     },
     "execution_count": 3,
     "metadata": {},
     "output_type": "execute_result"
    }
   ],
   "source": [
    "loadC.data.head()\n",
    "transformC.data.head()"
   ]
  },
  {
   "cell_type": "code",
   "execution_count": 4,
   "metadata": {},
   "outputs": [],
   "source": [
    "pipe = trainC.pipeline"
   ]
  },
  {
   "cell_type": "code",
   "execution_count": 5,
   "metadata": {},
   "outputs": [
    {
     "data": {
      "text/plain": [
       "dict_keys(['memory', 'steps', 'pipeline', 'estimator', 'pipeline__memory', 'pipeline__steps', 'pipeline__inputs', 'pipeline__inputs__n_jobs', 'pipeline__inputs__transformer_list', 'pipeline__inputs__transformer_weights', 'pipeline__inputs__Led1', 'pipeline__inputs__Led2', 'pipeline__inputs__Led3', 'pipeline__inputs__Led4', 'pipeline__inputs__Led5', 'pipeline__inputs__Led6', 'pipeline__inputs__Led7', 'pipeline__inputs__Led1__memory', 'pipeline__inputs__Led1__steps', 'pipeline__inputs__Led1__Led1_selector', 'pipeline__inputs__Led1___LabelBinarizer_transform', 'pipeline__inputs__Led1__Led1_selector__key', 'pipeline__inputs__Led2__memory', 'pipeline__inputs__Led2__steps', 'pipeline__inputs__Led2__Led2_selector', 'pipeline__inputs__Led2___LabelBinarizer_transform', 'pipeline__inputs__Led2__Led2_selector__key', 'pipeline__inputs__Led3__memory', 'pipeline__inputs__Led3__steps', 'pipeline__inputs__Led3__Led3_selector', 'pipeline__inputs__Led3___LabelBinarizer_transform', 'pipeline__inputs__Led3__Led3_selector__key', 'pipeline__inputs__Led4__memory', 'pipeline__inputs__Led4__steps', 'pipeline__inputs__Led4__Led4_selector', 'pipeline__inputs__Led4___LabelBinarizer_transform', 'pipeline__inputs__Led4__Led4_selector__key', 'pipeline__inputs__Led5__memory', 'pipeline__inputs__Led5__steps', 'pipeline__inputs__Led5__Led5_selector', 'pipeline__inputs__Led5___LabelBinarizer_transform', 'pipeline__inputs__Led5__Led5_selector__key', 'pipeline__inputs__Led6__memory', 'pipeline__inputs__Led6__steps', 'pipeline__inputs__Led6__Led6_selector', 'pipeline__inputs__Led6___LabelBinarizer_transform', 'pipeline__inputs__Led6__Led6_selector__key', 'pipeline__inputs__Led7__memory', 'pipeline__inputs__Led7__steps', 'pipeline__inputs__Led7__Led7_selector', 'pipeline__inputs__Led7___LabelBinarizer_transform', 'pipeline__inputs__Led7__Led7_selector__key', 'estimator__bootstrap', 'estimator__class_weight', 'estimator__criterion', 'estimator__max_depth', 'estimator__max_features', 'estimator__max_leaf_nodes', 'estimator__min_impurity_decrease', 'estimator__min_impurity_split', 'estimator__min_samples_leaf', 'estimator__min_samples_split', 'estimator__min_weight_fraction_leaf', 'estimator__n_estimators', 'estimator__n_jobs', 'estimator__oob_score', 'estimator__random_state', 'estimator__verbose', 'estimator__warm_start'])"
      ]
     },
     "execution_count": 5,
     "metadata": {},
     "output_type": "execute_result"
    }
   ],
   "source": [
    "pipe.get_params().keys()"
   ]
  },
  {
   "cell_type": "code",
   "execution_count": 6,
   "metadata": {},
   "outputs": [],
   "source": [
    "from Data.hyperparameters import hyperparameters"
   ]
  },
  {
   "cell_type": "code",
   "execution_count": 7,
   "metadata": {},
   "outputs": [
    {
     "data": {
      "text/plain": [
       "{'estimator__max_depth': [1, 2, 4, 8, 10],\n",
       " 'estimator__n_estimators': [100, 110, 120, 200, 250, 300],\n",
       " 'estimator__class_weight': ['balanced']}"
      ]
     },
     "execution_count": 7,
     "metadata": {},
     "output_type": "execute_result"
    }
   ],
   "source": [
    "hyperparameters"
   ]
  },
  {
   "cell_type": "code",
   "execution_count": 8,
   "metadata": {},
   "outputs": [
    {
     "name": "stderr",
     "output_type": "stream",
     "text": [
      "/anaconda3/lib/python3.6/site-packages/sklearn/model_selection/_search.py:841: DeprecationWarning: The default of the `iid` parameter will change from True to False in version 0.22 and will be removed in 0.24. This will change numeric results when test-set sizes are unequal.\n",
      "  DeprecationWarning)\n"
     ]
    },
    {
     "data": {
      "text/plain": [
       "GridSearchCV(cv=10, error_score='raise-deprecating',\n",
       "       estimator=Pipeline(memory=None,\n",
       "     steps=[('pipeline', Pipeline(memory=None,\n",
       "     steps=[('inputs', FeatureUnion(n_jobs=None,\n",
       "       transformer_list=[('Led1', Pipeline(memory=None,\n",
       "     steps=[('Led1_selector', NumberSelector(key='Led1')), ('_LabelBinarizer_transform', <Helper.Transform.Custom.nominal._LabelBinarizer object at 0x1a2...obs=None,\n",
       "            oob_score=False, random_state=None, verbose=0,\n",
       "            warm_start=False))]),\n",
       "       fit_params=None, iid='warn', n_jobs=None,\n",
       "       param_grid={'estimator__max_depth': [1, 2, 4, 8, 10], 'estimator__n_estimators': [100, 110, 120, 200, 250, 300], 'estimator__class_weight': ['balanced']},\n",
       "       pre_dispatch='2*n_jobs', refit=True, return_train_score='warn',\n",
       "       scoring=None, verbose=0)"
      ]
     },
     "execution_count": 8,
     "metadata": {},
     "output_type": "execute_result"
    }
   ],
   "source": [
    "clf = trainC.construct_GSCV(hyperparameters)\n",
    "clf.fit(loadC.partition.X_train, loadC.partition.y_train.values.ravel())"
   ]
  },
  {
   "cell_type": "code",
   "execution_count": 9,
   "metadata": {},
   "outputs": [
    {
     "data": {
      "text/plain": [
       "{'estimator__class_weight': 'balanced',\n",
       " 'estimator__max_depth': 2,\n",
       " 'estimator__n_estimators': 110}"
      ]
     },
     "execution_count": 9,
     "metadata": {},
     "output_type": "execute_result"
    }
   ],
   "source": [
    "clf.best_params_"
   ]
  },
  {
   "cell_type": "code",
   "execution_count": 10,
   "metadata": {},
   "outputs": [
    {
     "data": {
      "text/plain": [
       "True"
      ]
     },
     "execution_count": 10,
     "metadata": {},
     "output_type": "execute_result"
    }
   ],
   "source": [
    "clf.refit"
   ]
  },
  {
   "cell_type": "code",
   "execution_count": 11,
   "metadata": {},
   "outputs": [
    {
     "data": {
      "text/plain": [
       "0.7272727272727273"
      ]
     },
     "execution_count": 11,
     "metadata": {},
     "output_type": "execute_result"
    }
   ],
   "source": [
    "preds = clf.predict(loadC.partition.X_test)\n",
    "probs = clf.predict_proba(loadC.partition.X_test)\n",
    "np.mean(preds == loadC.partition.y_test.values.flatten())"
   ]
  },
  {
   "cell_type": "code",
   "execution_count": 12,
   "metadata": {},
   "outputs": [
    {
     "data": {
      "text/plain": [
       "array([[11,  0,  0,  0,  0,  0,  1,  0,  1,  2],\n",
       "       [ 0,  9,  0,  1,  0,  0,  0,  2,  0,  0],\n",
       "       [ 0,  0, 13,  3,  0,  0,  1,  0,  0,  0],\n",
       "       [ 0,  1,  0, 15,  0,  1,  0,  0,  0,  2],\n",
       "       [ 0,  2,  0,  0, 12,  1,  0,  0,  0,  2],\n",
       "       [ 0,  0,  0,  0,  2, 14,  1,  0,  0,  0],\n",
       "       [ 0,  0,  0,  0,  0,  1, 13,  0,  2,  0],\n",
       "       [ 1,  2,  2,  0,  1,  1,  0, 12,  0,  0],\n",
       "       [ 1,  0,  2,  1,  0,  1,  2,  0,  9,  1],\n",
       "       [ 0,  0,  0,  0,  1,  0,  0,  0,  3, 12]])"
      ]
     },
     "execution_count": 12,
     "metadata": {},
     "output_type": "execute_result"
    }
   ],
   "source": [
    "from sklearn.metrics import confusion_matrix\n",
    "confusion_matrix(loadC.partition.y_test.values, preds)"
   ]
  }
 ],
 "metadata": {
  "kernelspec": {
   "display_name": "Python 3",
   "language": "python",
   "name": "python3"
  },
  "language_info": {
   "codemirror_mode": {
    "name": "ipython",
    "version": 3
   },
   "file_extension": ".py",
   "mimetype": "text/x-python",
   "name": "python",
   "nbconvert_exporter": "python",
   "pygments_lexer": "ipython3",
   "version": "3.6.5"
  }
 },
 "nbformat": 4,
 "nbformat_minor": 2
}
