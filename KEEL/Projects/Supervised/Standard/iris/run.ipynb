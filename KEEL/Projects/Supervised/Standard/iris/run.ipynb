{
 "cells": [
  {
   "cell_type": "code",
   "execution_count": 11,
   "metadata": {},
   "outputs": [],
   "source": [
    "from Helper.Load.classification import Classification\n",
    "from Helper.Visual.Train.classification import VClassification\n",
    "from Helper.Transform.Transform.classification import Classificaton_Transform\n",
    "from Helper.Train.Train import Train\n",
    "\n",
    "from sklearn.decomposition import PCA\n",
    "from sklearn.discriminant_analysis import LinearDiscriminantAnalysis, QuadraticDiscriminantAnalysis\n",
    "from sklearn.ensemble import RandomForestClassifier\n",
    "\n",
    "import numpy as np\n",
    "import pandas as pd"
   ]
  },
  {
   "cell_type": "code",
   "execution_count": 2,
   "metadata": {},
   "outputs": [
    {
     "name": "stderr",
     "output_type": "stream",
     "text": [
      "/anaconda3/lib/python3.6/site-packages/sklearn/utils/validation.py:761: DataConversionWarning: A column-vector y was passed when a 1d array was expected. Please change the shape of y to (n_samples, ), for example using ravel().\n",
      "  y = column_or_1d(y, warn=True)\n"
     ]
    }
   ],
   "source": [
    "loadC = Classification(\"Data\", \"iris.dat\", \"iris-names.txt\")\n",
    "\n",
    "from Data.columns import Column_pipeline_Dictionary \n",
    "transformC = Classificaton_Transform(loadC, Column_pipeline_Dictionary, PCA)\n",
    "\n",
    "from Data.hyperparameters import hyperparameters\n",
    "trainC = Train(loadC, RandomForestClassifier, Classificaton_Transform, Column_pipeline_Dictionary, LinearDiscriminantAnalysis, hyperparameters)"
   ]
  },
  {
   "cell_type": "code",
   "execution_count": 3,
   "metadata": {},
   "outputs": [
    {
     "data": {
      "text/html": [
       "<div>\n",
       "<style scoped>\n",
       "    .dataframe tbody tr th:only-of-type {\n",
       "        vertical-align: middle;\n",
       "    }\n",
       "\n",
       "    .dataframe tbody tr th {\n",
       "        vertical-align: top;\n",
       "    }\n",
       "\n",
       "    .dataframe thead th {\n",
       "        text-align: right;\n",
       "    }\n",
       "</style>\n",
       "<table border=\"1\" class=\"dataframe\">\n",
       "  <thead>\n",
       "    <tr style=\"text-align: right;\">\n",
       "      <th></th>\n",
       "      <th>SepalLength</th>\n",
       "      <th>SepalWidth</th>\n",
       "      <th>PetalLength</th>\n",
       "      <th>PetalWidth</th>\n",
       "      <th>Class</th>\n",
       "    </tr>\n",
       "  </thead>\n",
       "  <tbody>\n",
       "    <tr>\n",
       "      <th>0</th>\n",
       "      <td>5.1</td>\n",
       "      <td>3.5</td>\n",
       "      <td>1.4</td>\n",
       "      <td>0.2</td>\n",
       "      <td>Iris-setosa</td>\n",
       "    </tr>\n",
       "    <tr>\n",
       "      <th>1</th>\n",
       "      <td>4.9</td>\n",
       "      <td>3.0</td>\n",
       "      <td>1.4</td>\n",
       "      <td>0.2</td>\n",
       "      <td>Iris-setosa</td>\n",
       "    </tr>\n",
       "    <tr>\n",
       "      <th>2</th>\n",
       "      <td>4.6</td>\n",
       "      <td>3.1</td>\n",
       "      <td>1.5</td>\n",
       "      <td>0.2</td>\n",
       "      <td>Iris-setosa</td>\n",
       "    </tr>\n",
       "    <tr>\n",
       "      <th>3</th>\n",
       "      <td>5.0</td>\n",
       "      <td>3.6</td>\n",
       "      <td>1.4</td>\n",
       "      <td>0.2</td>\n",
       "      <td>Iris-setosa</td>\n",
       "    </tr>\n",
       "    <tr>\n",
       "      <th>4</th>\n",
       "      <td>5.4</td>\n",
       "      <td>3.9</td>\n",
       "      <td>1.7</td>\n",
       "      <td>0.4</td>\n",
       "      <td>Iris-setosa</td>\n",
       "    </tr>\n",
       "  </tbody>\n",
       "</table>\n",
       "</div>"
      ],
      "text/plain": [
       "   SepalLength  SepalWidth  PetalLength  PetalWidth        Class\n",
       "0          5.1         3.5          1.4         0.2  Iris-setosa\n",
       "1          4.9         3.0          1.4         0.2  Iris-setosa\n",
       "2          4.6         3.1          1.5         0.2  Iris-setosa\n",
       "3          5.0         3.6          1.4         0.2  Iris-setosa\n",
       "4          5.4         3.9          1.7         0.4  Iris-setosa"
      ]
     },
     "execution_count": 3,
     "metadata": {},
     "output_type": "execute_result"
    }
   ],
   "source": [
    "loadC.data.head()"
   ]
  },
  {
   "cell_type": "code",
   "execution_count": 4,
   "metadata": {},
   "outputs": [
    {
     "data": {
      "text/plain": [
       "dict_keys(['memory', 'steps', 'inputs_pipeline', 'global', 'estimator', 'inputs_pipeline__memory', 'inputs_pipeline__steps', 'inputs_pipeline__inputs', 'inputs_pipeline__inputs__n_jobs', 'inputs_pipeline__inputs__transformer_list', 'inputs_pipeline__inputs__transformer_weights', 'inputs_pipeline__inputs__SepalLength', 'inputs_pipeline__inputs__SepalWidth', 'inputs_pipeline__inputs__PetalLength', 'inputs_pipeline__inputs__PetalWidth', 'inputs_pipeline__inputs__SepalLength__memory', 'inputs_pipeline__inputs__SepalLength__steps', 'inputs_pipeline__inputs__SepalLength__SepalLength_selector', 'inputs_pipeline__inputs__SepalLength__StandardScaler_transform', 'inputs_pipeline__inputs__SepalLength__SepalLength_selector__key', 'inputs_pipeline__inputs__SepalLength__StandardScaler_transform__copy', 'inputs_pipeline__inputs__SepalLength__StandardScaler_transform__with_mean', 'inputs_pipeline__inputs__SepalLength__StandardScaler_transform__with_std', 'inputs_pipeline__inputs__SepalWidth__memory', 'inputs_pipeline__inputs__SepalWidth__steps', 'inputs_pipeline__inputs__SepalWidth__SepalWidth_selector', 'inputs_pipeline__inputs__SepalWidth__StandardScaler_transform', 'inputs_pipeline__inputs__SepalWidth__SepalWidth_selector__key', 'inputs_pipeline__inputs__SepalWidth__StandardScaler_transform__copy', 'inputs_pipeline__inputs__SepalWidth__StandardScaler_transform__with_mean', 'inputs_pipeline__inputs__SepalWidth__StandardScaler_transform__with_std', 'inputs_pipeline__inputs__PetalLength__memory', 'inputs_pipeline__inputs__PetalLength__steps', 'inputs_pipeline__inputs__PetalLength__PetalLength_selector', 'inputs_pipeline__inputs__PetalLength__StandardScaler_transform', 'inputs_pipeline__inputs__PetalLength__PetalLength_selector__key', 'inputs_pipeline__inputs__PetalLength__StandardScaler_transform__copy', 'inputs_pipeline__inputs__PetalLength__StandardScaler_transform__with_mean', 'inputs_pipeline__inputs__PetalLength__StandardScaler_transform__with_std', 'inputs_pipeline__inputs__PetalWidth__memory', 'inputs_pipeline__inputs__PetalWidth__steps', 'inputs_pipeline__inputs__PetalWidth__PetalWidth_selector', 'inputs_pipeline__inputs__PetalWidth__StandardScaler_transform', 'inputs_pipeline__inputs__PetalWidth__PetalWidth_selector__key', 'inputs_pipeline__inputs__PetalWidth__StandardScaler_transform__copy', 'inputs_pipeline__inputs__PetalWidth__StandardScaler_transform__with_mean', 'inputs_pipeline__inputs__PetalWidth__StandardScaler_transform__with_std', 'global__memory', 'global__steps', 'global__globals', 'global__globals__n_components', 'global__globals__priors', 'global__globals__shrinkage', 'global__globals__solver', 'global__globals__store_covariance', 'global__globals__tol', 'estimator__bootstrap', 'estimator__class_weight', 'estimator__criterion', 'estimator__max_depth', 'estimator__max_features', 'estimator__max_leaf_nodes', 'estimator__min_impurity_decrease', 'estimator__min_impurity_split', 'estimator__min_samples_leaf', 'estimator__min_samples_split', 'estimator__min_weight_fraction_leaf', 'estimator__n_estimators', 'estimator__n_jobs', 'estimator__oob_score', 'estimator__random_state', 'estimator__verbose', 'estimator__warm_start'])"
      ]
     },
     "execution_count": 4,
     "metadata": {},
     "output_type": "execute_result"
    }
   ],
   "source": [
    "trainC.pipeline.get_params().keys()"
   ]
  },
  {
   "cell_type": "code",
   "execution_count": 5,
   "metadata": {},
   "outputs": [
    {
     "name": "stderr",
     "output_type": "stream",
     "text": [
      "/anaconda3/lib/python3.6/site-packages/sklearn/model_selection/_search.py:841: DeprecationWarning: The default of the `iid` parameter will change from True to False in version 0.22 and will be removed in 0.24. This will change numeric results when test-set sizes are unequal.\n",
      "  DeprecationWarning)\n"
     ]
    },
    {
     "data": {
      "text/plain": [
       "{'estimator__max_depth': 1,\n",
       " 'estimator__n_estimators': 140,\n",
       " 'global__globals__n_components': 1}"
      ]
     },
     "execution_count": 5,
     "metadata": {},
     "output_type": "execute_result"
    }
   ],
   "source": [
    "clf = trainC.fit_GSCV()\n",
    "clf.best_params_"
   ]
  },
  {
   "cell_type": "code",
   "execution_count": 6,
   "metadata": {},
   "outputs": [
    {
     "data": {
      "text/plain": [
       "0.98"
      ]
     },
     "execution_count": 6,
     "metadata": {},
     "output_type": "execute_result"
    }
   ],
   "source": [
    "preds = clf.predict(loadC.partition.X_test)\n",
    "np.mean(preds == loadC.partition.y_test.values.ravel())"
   ]
  },
  {
   "cell_type": "code",
   "execution_count": 7,
   "metadata": {},
   "outputs": [
    {
     "data": {
      "text/plain": [
       "array([[16,  0,  0],\n",
       "       [ 0, 16,  1],\n",
       "       [ 0,  0, 17]])"
      ]
     },
     "execution_count": 7,
     "metadata": {},
     "output_type": "execute_result"
    }
   ],
   "source": [
    "from sklearn.metrics import confusion_matrix, classification_report\n",
    "confusion_matrix(loadC.partition.y_test.values, preds)"
   ]
  },
  {
   "cell_type": "code",
   "execution_count": 8,
   "metadata": {},
   "outputs": [
    {
     "name": "stdout",
     "output_type": "stream",
     "text": [
      "                 precision    recall  f1-score   support\n",
      "\n",
      "    Iris-setosa       1.00      1.00      1.00        16\n",
      "Iris-versicolor       1.00      0.94      0.97        17\n",
      " Iris-virginica       0.94      1.00      0.97        17\n",
      "\n",
      "      micro avg       0.98      0.98      0.98        50\n",
      "      macro avg       0.98      0.98      0.98        50\n",
      "   weighted avg       0.98      0.98      0.98        50\n",
      "\n"
     ]
    }
   ],
   "source": [
    "print(classification_report(loadC.partition.y_test.values, preds))"
   ]
  },
  {
   "cell_type": "code",
   "execution_count": 12,
   "metadata": {},
   "outputs": [
    {
     "data": {
      "image/png": "[encoded data removed]",
      "text/plain": [
       "<Figure size 1440x720 with 2 Axes>"
      ]
     },
     "metadata": {
      "needs_background": "light"
     },
     "output_type": "display_data"
    }
   ],
   "source": [
    "VClassification(trainC).construct_confuation_matrix()"
   ]
  }
 ],
 "metadata": {
  "kernelspec": {
   "display_name": "Python 3",
   "language": "python",
   "name": "python3"
  },
  "language_info": {
   "codemirror_mode": {
    "name": "ipython",
    "version": 3
   },
   "file_extension": ".py",
   "mimetype": "text/x-python",
   "name": "python",
   "nbconvert_exporter": "python",
   "pygments_lexer": "ipython3",
   "version": "3.6.5"
  }
 },
 "nbformat": 4,
 "nbformat_minor": 2
}
