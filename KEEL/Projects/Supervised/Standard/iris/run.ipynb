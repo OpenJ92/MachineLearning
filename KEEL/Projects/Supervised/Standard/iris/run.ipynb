{
 "cells": [
  {
   "cell_type": "code",
   "execution_count": 7,
   "metadata": {},
   "outputs": [],
   "source": [
    "from Helper.Load.classification import Classification\n",
    "from Helper.Visual.classification import VClassification\n",
    "from Helper.Transform.Transform.classification import Classificaton_Transform\n",
    "from Helper.Train.Train import Train\n",
    "\n",
    "from sklearn.decomposition import PCA\n",
    "from sklearn.discriminant_analysis import LinearDiscriminantAnalysis, QuadraticDiscriminantAnalysis\n",
    "from sklearn.ensemble import RandomForestClassifier\n",
    "\n",
    "import numpy as np"
   ]
  },
  {
   "cell_type": "code",
   "execution_count": 2,
   "metadata": {},
   "outputs": [
    {
     "name": "stderr",
     "output_type": "stream",
     "text": [
      "/anaconda3/lib/python3.6/site-packages/sklearn/utils/validation.py:761: DataConversionWarning: A column-vector y was passed when a 1d array was expected. Please change the shape of y to (n_samples, ), for example using ravel().\n",
      "  y = column_or_1d(y, warn=True)\n"
     ]
    }
   ],
   "source": [
    "loadC = Classification(\"Data\", \"iris.dat\", \"iris-names.txt\")\n",
    "\n",
    "from Data.columns import Column_pipeline_Dictionary \n",
    "transformC = Classificaton_Transform(loadC, Column_pipeline_Dictionary, PCA)\n",
    "\n",
    "from Data.hyperparameters import hyperparameters\n",
    "trainC = Train(loadC, RandomForestClassifier, Classificaton_Transform, Column_pipeline_Dictionary, LinearDiscriminantAnalysis, hyperparameters)"
   ]
  },
  {
   "cell_type": "code",
   "execution_count": 3,
   "metadata": {},
   "outputs": [
    {
     "data": {
      "text/html": [
       "<div>\n",
       "<style scoped>\n",
       "    .dataframe tbody tr th:only-of-type {\n",
       "        vertical-align: middle;\n",
       "    }\n",
       "\n",
       "    .dataframe tbody tr th {\n",
       "        vertical-align: top;\n",
       "    }\n",
       "\n",
       "    .dataframe thead th {\n",
       "        text-align: right;\n",
       "    }\n",
       "</style>\n",
       "<table border=\"1\" class=\"dataframe\">\n",
       "  <thead>\n",
       "    <tr style=\"text-align: right;\">\n",
       "      <th></th>\n",
       "      <th>SepalLength</th>\n",
       "      <th>SepalWidth</th>\n",
       "      <th>PetalLength</th>\n",
       "      <th>PetalWidth</th>\n",
       "      <th>Class</th>\n",
       "    </tr>\n",
       "  </thead>\n",
       "  <tbody>\n",
       "    <tr>\n",
       "      <th>0</th>\n",
       "      <td>5.1</td>\n",
       "      <td>3.5</td>\n",
       "      <td>1.4</td>\n",
       "      <td>0.2</td>\n",
       "      <td>Iris-setosa</td>\n",
       "    </tr>\n",
       "    <tr>\n",
       "      <th>1</th>\n",
       "      <td>4.9</td>\n",
       "      <td>3.0</td>\n",
       "      <td>1.4</td>\n",
       "      <td>0.2</td>\n",
       "      <td>Iris-setosa</td>\n",
       "    </tr>\n",
       "    <tr>\n",
       "      <th>2</th>\n",
       "      <td>4.6</td>\n",
       "      <td>3.1</td>\n",
       "      <td>1.5</td>\n",
       "      <td>0.2</td>\n",
       "      <td>Iris-setosa</td>\n",
       "    </tr>\n",
       "    <tr>\n",
       "      <th>3</th>\n",
       "      <td>5.0</td>\n",
       "      <td>3.6</td>\n",
       "      <td>1.4</td>\n",
       "      <td>0.2</td>\n",
       "      <td>Iris-setosa</td>\n",
       "    </tr>\n",
       "    <tr>\n",
       "      <th>4</th>\n",
       "      <td>5.4</td>\n",
       "      <td>3.9</td>\n",
       "      <td>1.7</td>\n",
       "      <td>0.4</td>\n",
       "      <td>Iris-setosa</td>\n",
       "    </tr>\n",
       "  </tbody>\n",
       "</table>\n",
       "</div>"
      ],
      "text/plain": [
       "   SepalLength  SepalWidth  PetalLength  PetalWidth        Class\n",
       "0          5.1         3.5          1.4         0.2  Iris-setosa\n",
       "1          4.9         3.0          1.4         0.2  Iris-setosa\n",
       "2          4.6         3.1          1.5         0.2  Iris-setosa\n",
       "3          5.0         3.6          1.4         0.2  Iris-setosa\n",
       "4          5.4         3.9          1.7         0.4  Iris-setosa"
      ]
     },
     "execution_count": 3,
     "metadata": {},
     "output_type": "execute_result"
    }
   ],
   "source": [
    "loadC.data.head()"
   ]
  },
  {
   "cell_type": "code",
   "execution_count": 11,
   "metadata": {},
   "outputs": [
    {
     "data": {
      "text/plain": [
       "{'memory': None, 'steps': [('inputs_pipeline', Pipeline(memory=None,\n",
       "        steps=[('inputs', FeatureUnion(n_jobs=None,\n",
       "          transformer_list=[('SepalLength', Pipeline(memory=None,\n",
       "        steps=[('SepalLength_selector', NumberSelector(key='SepalLength')), ('StandardScaler_transform', StandardScaler(copy=True, with_mean=True, with_std=True))])), ('SepalWidth', Pipeline(memory=None,\n",
       "        steps=[('SepalWidth_selector', NumberS...Width')), ('StandardScaler_transform', StandardScaler(copy=True, with_mean=True, with_std=True))]))],\n",
       "          transformer_weights=None))])), ('global', Pipeline(memory=None,\n",
       "        steps=[('globals', LinearDiscriminantAnalysis(n_components=None, priors=None, shrinkage=None,\n",
       "                 solver='svd', store_covariance=False, tol=0.0001))])), ('estimator',\n",
       "   RandomForestClassifier(bootstrap=True, class_weight=None, criterion='gini',\n",
       "               max_depth=None, max_features='auto', max_leaf_nodes=None,\n",
       "               min_impurity_decrease=0.0, min_impurity_split=None,\n",
       "               min_samples_leaf=1, min_samples_split=2,\n",
       "               min_weight_fraction_leaf=0.0, n_estimators='warn', n_jobs=None,\n",
       "               oob_score=False, random_state=None, verbose=0,\n",
       "               warm_start=False))], 'inputs_pipeline': Pipeline(memory=None,\n",
       "      steps=[('inputs', FeatureUnion(n_jobs=None,\n",
       "        transformer_list=[('SepalLength', Pipeline(memory=None,\n",
       "      steps=[('SepalLength_selector', NumberSelector(key='SepalLength')), ('StandardScaler_transform', StandardScaler(copy=True, with_mean=True, with_std=True))])), ('SepalWidth', Pipeline(memory=None,\n",
       "      steps=[('SepalWidth_selector', NumberS...Width')), ('StandardScaler_transform', StandardScaler(copy=True, with_mean=True, with_std=True))]))],\n",
       "        transformer_weights=None))]), 'global': Pipeline(memory=None,\n",
       "      steps=[('globals', LinearDiscriminantAnalysis(n_components=None, priors=None, shrinkage=None,\n",
       "               solver='svd', store_covariance=False, tol=0.0001))]), 'estimator': RandomForestClassifier(bootstrap=True, class_weight=None, criterion='gini',\n",
       "             max_depth=None, max_features='auto', max_leaf_nodes=None,\n",
       "             min_impurity_decrease=0.0, min_impurity_split=None,\n",
       "             min_samples_leaf=1, min_samples_split=2,\n",
       "             min_weight_fraction_leaf=0.0, n_estimators='warn', n_jobs=None,\n",
       "             oob_score=False, random_state=None, verbose=0,\n",
       "             warm_start=False), 'inputs_pipeline__memory': None, 'inputs_pipeline__steps': [('inputs',\n",
       "   FeatureUnion(n_jobs=None,\n",
       "          transformer_list=[('SepalLength', Pipeline(memory=None,\n",
       "        steps=[('SepalLength_selector', NumberSelector(key='SepalLength')), ('StandardScaler_transform', StandardScaler(copy=True, with_mean=True, with_std=True))])), ('SepalWidth', Pipeline(memory=None,\n",
       "        steps=[('SepalWidth_selector', NumberS...Width')), ('StandardScaler_transform', StandardScaler(copy=True, with_mean=True, with_std=True))]))],\n",
       "          transformer_weights=None))], 'inputs_pipeline__inputs': FeatureUnion(n_jobs=None,\n",
       "        transformer_list=[('SepalLength', Pipeline(memory=None,\n",
       "      steps=[('SepalLength_selector', NumberSelector(key='SepalLength')), ('StandardScaler_transform', StandardScaler(copy=True, with_mean=True, with_std=True))])), ('SepalWidth', Pipeline(memory=None,\n",
       "      steps=[('SepalWidth_selector', NumberS...Width')), ('StandardScaler_transform', StandardScaler(copy=True, with_mean=True, with_std=True))]))],\n",
       "        transformer_weights=None), 'inputs_pipeline__inputs__n_jobs': None, 'inputs_pipeline__inputs__transformer_list': [('SepalLength',\n",
       "   Pipeline(memory=None,\n",
       "        steps=[('SepalLength_selector', NumberSelector(key='SepalLength')), ('StandardScaler_transform', StandardScaler(copy=True, with_mean=True, with_std=True))])),\n",
       "  ('SepalWidth', Pipeline(memory=None,\n",
       "        steps=[('SepalWidth_selector', NumberSelector(key='SepalWidth')), ('StandardScaler_transform', StandardScaler(copy=True, with_mean=True, with_std=True))])),\n",
       "  ('PetalLength', Pipeline(memory=None,\n",
       "        steps=[('PetalLength_selector', NumberSelector(key='PetalLength')), ('StandardScaler_transform', StandardScaler(copy=True, with_mean=True, with_std=True))])),\n",
       "  ('PetalWidth', Pipeline(memory=None,\n",
       "        steps=[('PetalWidth_selector', NumberSelector(key='PetalWidth')), ('StandardScaler_transform', StandardScaler(copy=True, with_mean=True, with_std=True))]))], 'inputs_pipeline__inputs__transformer_weights': None, 'inputs_pipeline__inputs__SepalLength': Pipeline(memory=None,\n",
       "      steps=[('SepalLength_selector', NumberSelector(key='SepalLength')), ('StandardScaler_transform', StandardScaler(copy=True, with_mean=True, with_std=True))]), 'inputs_pipeline__inputs__SepalWidth': Pipeline(memory=None,\n",
       "      steps=[('SepalWidth_selector', NumberSelector(key='SepalWidth')), ('StandardScaler_transform', StandardScaler(copy=True, with_mean=True, with_std=True))]), 'inputs_pipeline__inputs__PetalLength': Pipeline(memory=None,\n",
       "      steps=[('PetalLength_selector', NumberSelector(key='PetalLength')), ('StandardScaler_transform', StandardScaler(copy=True, with_mean=True, with_std=True))]), 'inputs_pipeline__inputs__PetalWidth': Pipeline(memory=None,\n",
       "      steps=[('PetalWidth_selector', NumberSelector(key='PetalWidth')), ('StandardScaler_transform', StandardScaler(copy=True, with_mean=True, with_std=True))]), 'inputs_pipeline__inputs__SepalLength__memory': None, 'inputs_pipeline__inputs__SepalLength__steps': [('SepalLength_selector',\n",
       "   NumberSelector(key='SepalLength')),\n",
       "  ('StandardScaler_transform',\n",
       "   StandardScaler(copy=True, with_mean=True, with_std=True))], 'inputs_pipeline__inputs__SepalLength__SepalLength_selector': NumberSelector(key='SepalLength'), 'inputs_pipeline__inputs__SepalLength__StandardScaler_transform': StandardScaler(copy=True, with_mean=True, with_std=True), 'inputs_pipeline__inputs__SepalLength__SepalLength_selector__key': 'SepalLength', 'inputs_pipeline__inputs__SepalLength__StandardScaler_transform__copy': True, 'inputs_pipeline__inputs__SepalLength__StandardScaler_transform__with_mean': True, 'inputs_pipeline__inputs__SepalLength__StandardScaler_transform__with_std': True, 'inputs_pipeline__inputs__SepalWidth__memory': None, 'inputs_pipeline__inputs__SepalWidth__steps': [('SepalWidth_selector',\n",
       "   NumberSelector(key='SepalWidth')),\n",
       "  ('StandardScaler_transform',\n",
       "   StandardScaler(copy=True, with_mean=True, with_std=True))], 'inputs_pipeline__inputs__SepalWidth__SepalWidth_selector': NumberSelector(key='SepalWidth'), 'inputs_pipeline__inputs__SepalWidth__StandardScaler_transform': StandardScaler(copy=True, with_mean=True, with_std=True), 'inputs_pipeline__inputs__SepalWidth__SepalWidth_selector__key': 'SepalWidth', 'inputs_pipeline__inputs__SepalWidth__StandardScaler_transform__copy': True, 'inputs_pipeline__inputs__SepalWidth__StandardScaler_transform__with_mean': True, 'inputs_pipeline__inputs__SepalWidth__StandardScaler_transform__with_std': True, 'inputs_pipeline__inputs__PetalLength__memory': None, 'inputs_pipeline__inputs__PetalLength__steps': [('PetalLength_selector',\n",
       "   NumberSelector(key='PetalLength')),\n",
       "  ('StandardScaler_transform',\n",
       "   StandardScaler(copy=True, with_mean=True, with_std=True))], 'inputs_pipeline__inputs__PetalLength__PetalLength_selector': NumberSelector(key='PetalLength'), 'inputs_pipeline__inputs__PetalLength__StandardScaler_transform': StandardScaler(copy=True, with_mean=True, with_std=True), 'inputs_pipeline__inputs__PetalLength__PetalLength_selector__key': 'PetalLength', 'inputs_pipeline__inputs__PetalLength__StandardScaler_transform__copy': True, 'inputs_pipeline__inputs__PetalLength__StandardScaler_transform__with_mean': True, 'inputs_pipeline__inputs__PetalLength__StandardScaler_transform__with_std': True, 'inputs_pipeline__inputs__PetalWidth__memory': None, 'inputs_pipeline__inputs__PetalWidth__steps': [('PetalWidth_selector',\n",
       "   NumberSelector(key='PetalWidth')),\n",
       "  ('StandardScaler_transform',\n",
       "   StandardScaler(copy=True, with_mean=True, with_std=True))], 'inputs_pipeline__inputs__PetalWidth__PetalWidth_selector': NumberSelector(key='PetalWidth'), 'inputs_pipeline__inputs__PetalWidth__StandardScaler_transform': StandardScaler(copy=True, with_mean=True, with_std=True), 'inputs_pipeline__inputs__PetalWidth__PetalWidth_selector__key': 'PetalWidth', 'inputs_pipeline__inputs__PetalWidth__StandardScaler_transform__copy': True, 'inputs_pipeline__inputs__PetalWidth__StandardScaler_transform__with_mean': True, 'inputs_pipeline__inputs__PetalWidth__StandardScaler_transform__with_std': True, 'global__memory': None, 'global__steps': [('globals',\n",
       "   LinearDiscriminantAnalysis(n_components=None, priors=None, shrinkage=None,\n",
       "                 solver='svd', store_covariance=False, tol=0.0001))], 'global__globals': LinearDiscriminantAnalysis(n_components=None, priors=None, shrinkage=None,\n",
       "               solver='svd', store_covariance=False, tol=0.0001), 'global__globals__n_components': None, 'global__globals__priors': None, 'global__globals__shrinkage': None, 'global__globals__solver': 'svd', 'global__globals__store_covariance': False, 'global__globals__tol': 0.0001, 'estimator__bootstrap': True, 'estimator__class_weight': None, 'estimator__criterion': 'gini', 'estimator__max_depth': None, 'estimator__max_features': 'auto', 'estimator__max_leaf_nodes': None, 'estimator__min_impurity_decrease': 0.0, 'estimator__min_impurity_split': None, 'estimator__min_samples_leaf': 1, 'estimator__min_samples_split': 2, 'estimator__min_weight_fraction_leaf': 0.0, 'estimator__n_estimators': 'warn', 'estimator__n_jobs': None, 'estimator__oob_score': False, 'estimator__random_state': None, 'estimator__verbose': 0, 'estimator__warm_start': False}"
      ]
     },
     "execution_count": 11,
     "metadata": {},
     "output_type": "execute_result"
    }
   ],
   "source": [
    "trainC.pipeline.get_params()"
   ]
  },
  {
   "cell_type": "code",
   "execution_count": 5,
   "metadata": {},
   "outputs": [
    {
     "name": "stderr",
     "output_type": "stream",
     "text": [
      "/anaconda3/lib/python3.6/site-packages/sklearn/model_selection/_search.py:841: DeprecationWarning: The default of the `iid` parameter will change from True to False in version 0.22 and will be removed in 0.24. This will change numeric results when test-set sizes are unequal.\n",
      "  DeprecationWarning)\n"
     ]
    },
    {
     "data": {
      "text/plain": [
       "{'estimator__max_depth': 1,\n",
       " 'estimator__n_estimators': 100,\n",
       " 'global__globals__n_components': 1}"
      ]
     },
     "execution_count": 5,
     "metadata": {},
     "output_type": "execute_result"
    }
   ],
   "source": [
    "clf = trainC.fit_GSCV()\n",
    "clf.best_params_"
   ]
  },
  {
   "cell_type": "code",
   "execution_count": 8,
   "metadata": {},
   "outputs": [
    {
     "data": {
      "text/plain": [
       "0.98"
      ]
     },
     "execution_count": 8,
     "metadata": {},
     "output_type": "execute_result"
    }
   ],
   "source": [
    "preds = clf.predict(loadC.partition.X_test)\n",
    "np.mean(preds == loadC.partition.y_test.values.ravel())"
   ]
  },
  {
   "cell_type": "code",
   "execution_count": 9,
   "metadata": {},
   "outputs": [
    {
     "data": {
      "text/plain": [
       "array([[16,  0,  0],\n",
       "       [ 0, 16,  1],\n",
       "       [ 0,  0, 17]])"
      ]
     },
     "execution_count": 9,
     "metadata": {},
     "output_type": "execute_result"
    }
   ],
   "source": [
    "from sklearn.metrics import confusion_matrix, classification_report\n",
    "confusion_matrix(loadC.partition.y_test.values, preds)"
   ]
  },
  {
   "cell_type": "code",
   "execution_count": 10,
   "metadata": {},
   "outputs": [
    {
     "name": "stdout",
     "output_type": "stream",
     "text": [
      "                 precision    recall  f1-score   support\n",
      "\n",
      "    Iris-setosa       1.00      1.00      1.00        16\n",
      "Iris-versicolor       1.00      0.94      0.97        17\n",
      " Iris-virginica       0.94      1.00      0.97        17\n",
      "\n",
      "      micro avg       0.98      0.98      0.98        50\n",
      "      macro avg       0.98      0.98      0.98        50\n",
      "   weighted avg       0.98      0.98      0.98        50\n",
      "\n"
     ]
    }
   ],
   "source": [
    "print(classification_report(loadC.partition.y_test.values, preds))"
   ]
  }
 ],
 "metadata": {
  "kernelspec": {
   "display_name": "Python 3",
   "language": "python",
   "name": "python3"
  },
  "language_info": {
   "codemirror_mode": {
    "name": "ipython",
    "version": 3
   },
   "file_extension": ".py",
   "mimetype": "text/x-python",
   "name": "python",
   "nbconvert_exporter": "python",
   "pygments_lexer": "ipython3",
   "version": "3.6.5"
  }
 },
 "nbformat": 4,
 "nbformat_minor": 2
}
