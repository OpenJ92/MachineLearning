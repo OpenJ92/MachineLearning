{
 "cells": [
  {
   "cell_type": "code",
   "execution_count": 1,
   "metadata": {},
   "outputs": [],
   "source": [
    "from Helper.Load.load import Base_Load\n",
    "from Helper.Load.supervised import Supervised\n",
    "from Helper.Load.regression import Regression\n",
    "from Helper.Load.classification import Classification\n",
    "from Helper.Visual.Visual import Visual\n",
    "from Helper.Visual.classification import VClassification\n",
    "from Helper.Transform.Transform.classification import Classificaton_Transform\n",
    "from Helper.Train.Train import Train\n",
    "\n",
    "from sklearn.model_selection import GridSearchCV\n",
    "from sklearn.svm import SVC\n",
    "from sklearn.ensemble import RandomForestClassifier\n",
    "import numpy as np\n",
    "import matplotlib.pyplot as plt\n",
    "import pandas as pd"
   ]
  },
  {
   "cell_type": "code",
   "execution_count": 8,
   "metadata": {},
   "outputs": [
    {
     "name": "stdout",
     "output_type": "stream",
     "text": [
      "> /Users/jacob/Desktop/Project/MachineLearning/KEEL/Projects/Supervised/Standard/wisconsin/Helper/Transform/Transform/classification.py(32)visual_data()\n",
      "-> return pd.DataFrame(self.featureU().transform(data), columns=data.columns)\n"
     ]
    },
    {
     "name": "stdin",
     "output_type": "stream",
     "text": [
      "(Pdb)  c\n"
     ]
    }
   ],
   "source": [
    "loadC = Classification(\"Data\", \"wisconsin.dat\", \"wisconsin-names.txt\")\n",
    "transformC = Classificaton_Transform(loadC)"
   ]
  },
  {
   "cell_type": "code",
   "execution_count": 11,
   "metadata": {},
   "outputs": [
    {
     "data": {
      "text/plain": [
       "[['@attribute', 'ClumpThickness', 'integer', '[1,10]'],\n",
       " ['@attribute', 'CellSize', 'integer', '[1,10]'],\n",
       " ['@attribute', 'CellShape', 'integer', '[1,10]'],\n",
       " ['@attribute', 'MarginalAdhesion', 'integer', '[1,10]'],\n",
       " ['@attribute', 'EpithelialSize', 'integer', '[1,10]'],\n",
       " ['@attribute', 'BareNuclei', 'integer', '[1,10]'],\n",
       " ['@attribute', 'BlandChromatin', 'integer', '[1,10]'],\n",
       " ['@attribute', 'NormalNucleoli', 'integer', '[1,10]'],\n",
       " ['@attribute', 'Mitoses', 'integer', '[1,10]'],\n",
       " ['@attribute', 'Class', '{2,4}']]"
      ]
     },
     "execution_count": 11,
     "metadata": {},
     "output_type": "execute_result"
    }
   ],
   "source": [
    "loadC.attributes"
   ]
  },
  {
   "cell_type": "markdown",
   "metadata": {},
   "source": [
    "<img src=\"Data/Visual/andrews_curves.png\">"
   ]
  },
  {
   "cell_type": "code",
   "execution_count": null,
   "metadata": {},
   "outputs": [],
   "source": [
    "(a,b,c,d)\n",
    "asin(x) + bsin(2x) + csin(3x) + dsin(4x) # fouier series"
   ]
  }
 ],
 "metadata": {
  "kernelspec": {
   "display_name": "Python 3",
   "language": "python",
   "name": "python3"
  },
  "language_info": {
   "codemirror_mode": {
    "name": "ipython",
    "version": 3
   },
   "file_extension": ".py",
   "mimetype": "text/x-python",
   "name": "python",
   "nbconvert_exporter": "python",
   "pygments_lexer": "ipython3",
   "version": "3.6.5"
  }
 },
 "nbformat": 4,
 "nbformat_minor": 2
}
