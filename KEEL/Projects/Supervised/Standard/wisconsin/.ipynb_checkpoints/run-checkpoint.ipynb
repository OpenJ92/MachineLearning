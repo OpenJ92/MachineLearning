{
 "cells": [
  {
   "cell_type": "code",
   "execution_count": 1,
   "metadata": {},
   "outputs": [],
   "source": [
    "from Helper.Load.classification import Classification\n",
    "from Helper.Visual.classification import VClassification\n",
    "from Helper.Transform.Transform.classification import Classificaton_Transform\n",
    "from Helper.Train.Train import Train\n",
    "\n",
    "from sklearn.model_selection import GridSearchCV\n",
    "from sklearn.svm import SVC\n",
    "from sklearn.ensemble import RandomForestClassifier\n",
    "from sklearn.decomposition import PCA\n",
    "import numpy as np\n",
    "import matplotlib.pyplot as plt\n",
    "import pandas as pd"
   ]
  },
  {
   "cell_type": "code",
   "execution_count": 2,
   "metadata": {},
   "outputs": [],
   "source": [
    "loadC = Classification(\"Data\", \"wisconsin.dat\", \"wisconsin-names.txt\")\n",
    "\n",
    "from Data.columns import Column_pipeline_Dictionary \n",
    "transformC = Classificaton_Transform(loadC, Column_pipeline_Dictionary, PCA)\n",
    "\n",
    "from Data.hyperparameters import hyperparameters\n",
    "trainC = Train(loadC, RandomForestClassifier, Classificaton_Transform, Column_pipeline_Dictionary, PCA, hyperparameters)"
   ]
  },
  {
   "cell_type": "code",
   "execution_count": 3,
   "metadata": {},
   "outputs": [
    {
     "data": {
      "text/plain": [
       "[['@attribute', 'ClumpThickness', 'integer', '[1,10]'],\n",
       " ['@attribute', 'CellSize', 'integer', '[1,10]'],\n",
       " ['@attribute', 'CellShape', 'integer', '[1,10]'],\n",
       " ['@attribute', 'MarginalAdhesion', 'integer', '[1,10]'],\n",
       " ['@attribute', 'EpithelialSize', 'integer', '[1,10]'],\n",
       " ['@attribute', 'BareNuclei', 'integer', '[1,10]'],\n",
       " ['@attribute', 'BlandChromatin', 'integer', '[1,10]'],\n",
       " ['@attribute', 'NormalNucleoli', 'integer', '[1,10]'],\n",
       " ['@attribute', 'Mitoses', 'integer', '[1,10]'],\n",
       " ['@attribute', 'Class', '{2,4}']]"
      ]
     },
     "execution_count": 3,
     "metadata": {},
     "output_type": "execute_result"
    }
   ],
   "source": [
    "loadC.attributes"
   ]
  },
  {
   "cell_type": "markdown",
   "metadata": {},
   "source": [
    "<img src=\"Data/Visual/andrews_curves.png\">"
   ]
  },
  {
   "cell_type": "markdown",
   "metadata": {},
   "source": [
    "<img src=\"Data/Visual/class_balance.png\">"
   ]
  },
  {
   "cell_type": "code",
   "execution_count": 4,
   "metadata": {},
   "outputs": [
    {
     "data": {
      "text/plain": [
       "dict_keys(['memory', 'steps', 'inputs_pipeline', 'global', 'estimator', 'inputs_pipeline__memory', 'inputs_pipeline__steps', 'inputs_pipeline__inputs', 'inputs_pipeline__inputs__n_jobs', 'inputs_pipeline__inputs__transformer_list', 'inputs_pipeline__inputs__transformer_weights', 'inputs_pipeline__inputs__ClumpThickness', 'inputs_pipeline__inputs__CellSize', 'inputs_pipeline__inputs__CellShape', 'inputs_pipeline__inputs__MarginalAdhesion', 'inputs_pipeline__inputs__EpithelialSize', 'inputs_pipeline__inputs__BareNuclei', 'inputs_pipeline__inputs__BlandChromatin', 'inputs_pipeline__inputs__NormalNucleoli', 'inputs_pipeline__inputs__Mitoses', 'inputs_pipeline__inputs__ClumpThickness__memory', 'inputs_pipeline__inputs__ClumpThickness__steps', 'inputs_pipeline__inputs__ClumpThickness__ClumpThickness_selector', 'inputs_pipeline__inputs__ClumpThickness___Identity_transform', 'inputs_pipeline__inputs__ClumpThickness__ClumpThickness_selector__key', 'inputs_pipeline__inputs__CellSize__memory', 'inputs_pipeline__inputs__CellSize__steps', 'inputs_pipeline__inputs__CellSize__CellSize_selector', 'inputs_pipeline__inputs__CellSize___Identity_transform', 'inputs_pipeline__inputs__CellSize__CellSize_selector__key', 'inputs_pipeline__inputs__CellShape__memory', 'inputs_pipeline__inputs__CellShape__steps', 'inputs_pipeline__inputs__CellShape__CellShape_selector', 'inputs_pipeline__inputs__CellShape___Identity_transform', 'inputs_pipeline__inputs__CellShape__CellShape_selector__key', 'inputs_pipeline__inputs__MarginalAdhesion__memory', 'inputs_pipeline__inputs__MarginalAdhesion__steps', 'inputs_pipeline__inputs__MarginalAdhesion__MarginalAdhesion_selector', 'inputs_pipeline__inputs__MarginalAdhesion___Identity_transform', 'inputs_pipeline__inputs__MarginalAdhesion__MarginalAdhesion_selector__key', 'inputs_pipeline__inputs__EpithelialSize__memory', 'inputs_pipeline__inputs__EpithelialSize__steps', 'inputs_pipeline__inputs__EpithelialSize__EpithelialSize_selector', 'inputs_pipeline__inputs__EpithelialSize___Identity_transform', 'inputs_pipeline__inputs__EpithelialSize__EpithelialSize_selector__key', 'inputs_pipeline__inputs__BareNuclei__memory', 'inputs_pipeline__inputs__BareNuclei__steps', 'inputs_pipeline__inputs__BareNuclei__BareNuclei_selector', 'inputs_pipeline__inputs__BareNuclei___Identity_transform', 'inputs_pipeline__inputs__BareNuclei__BareNuclei_selector__key', 'inputs_pipeline__inputs__BlandChromatin__memory', 'inputs_pipeline__inputs__BlandChromatin__steps', 'inputs_pipeline__inputs__BlandChromatin__BlandChromatin_selector', 'inputs_pipeline__inputs__BlandChromatin___Identity_transform', 'inputs_pipeline__inputs__BlandChromatin__BlandChromatin_selector__key', 'inputs_pipeline__inputs__NormalNucleoli__memory', 'inputs_pipeline__inputs__NormalNucleoli__steps', 'inputs_pipeline__inputs__NormalNucleoli__NormalNucleoli_selector', 'inputs_pipeline__inputs__NormalNucleoli___Identity_transform', 'inputs_pipeline__inputs__NormalNucleoli__NormalNucleoli_selector__key', 'inputs_pipeline__inputs__Mitoses__memory', 'inputs_pipeline__inputs__Mitoses__steps', 'inputs_pipeline__inputs__Mitoses__Mitoses_selector', 'inputs_pipeline__inputs__Mitoses___Identity_transform', 'inputs_pipeline__inputs__Mitoses__Mitoses_selector__key', 'global__memory', 'global__steps', 'global__globals', 'global__globals__copy', 'global__globals__iterated_power', 'global__globals__n_components', 'global__globals__random_state', 'global__globals__svd_solver', 'global__globals__tol', 'global__globals__whiten', 'estimator__bootstrap', 'estimator__class_weight', 'estimator__criterion', 'estimator__max_depth', 'estimator__max_features', 'estimator__max_leaf_nodes', 'estimator__min_impurity_decrease', 'estimator__min_impurity_split', 'estimator__min_samples_leaf', 'estimator__min_samples_split', 'estimator__min_weight_fraction_leaf', 'estimator__n_estimators', 'estimator__n_jobs', 'estimator__oob_score', 'estimator__random_state', 'estimator__verbose', 'estimator__warm_start'])"
      ]
     },
     "execution_count": 4,
     "metadata": {},
     "output_type": "execute_result"
    }
   ],
   "source": [
    "trainC.pipeline.get_params().keys()"
   ]
  },
  {
   "cell_type": "code",
   "execution_count": 5,
   "metadata": {},
   "outputs": [
    {
     "name": "stderr",
     "output_type": "stream",
     "text": [
      "/anaconda3/lib/python3.6/site-packages/sklearn/model_selection/_search.py:841: DeprecationWarning: The default of the `iid` parameter will change from True to False in version 0.22 and will be removed in 0.24. This will change numeric results when test-set sizes are unequal.\n",
      "  DeprecationWarning)\n"
     ]
    }
   ],
   "source": [
    "clf = trainC.fit_GSCV()"
   ]
  },
  {
   "cell_type": "code",
   "execution_count": 6,
   "metadata": {},
   "outputs": [
    {
     "data": {
      "text/plain": [
       "{'estimator__max_depth': 1,\n",
       " 'estimator__n_estimators': 100,\n",
       " 'global__globals__n_components': 1}"
      ]
     },
     "execution_count": 6,
     "metadata": {},
     "output_type": "execute_result"
    }
   ],
   "source": [
    "clf.best_params_"
   ]
  },
  {
   "cell_type": "code",
   "execution_count": 7,
   "metadata": {},
   "outputs": [
    {
     "data": {
      "text/plain": [
       "0.9690265486725663"
      ]
     },
     "execution_count": 7,
     "metadata": {},
     "output_type": "execute_result"
    }
   ],
   "source": [
    "preds = clf.predict(loadC.partition.X_test)\n",
    "np.mean(preds == loadC.partition.y_test.values.ravel())"
   ]
  },
  {
   "cell_type": "code",
   "execution_count": 8,
   "metadata": {},
   "outputs": [
    {
     "data": {
      "text/plain": [
       "array([[141,   6],\n",
       "       [  1,  78]])"
      ]
     },
     "execution_count": 8,
     "metadata": {},
     "output_type": "execute_result"
    }
   ],
   "source": [
    "from sklearn.metrics import confusion_matrix, classification_report\n",
    "confusion_matrix(loadC.partition.y_test.values, preds)"
   ]
  },
  {
   "cell_type": "code",
   "execution_count": 9,
   "metadata": {},
   "outputs": [
    {
     "name": "stdout",
     "output_type": "stream",
     "text": [
      "              precision    recall  f1-score   support\n",
      "\n",
      "           2       0.99      0.96      0.98       147\n",
      "           4       0.93      0.99      0.96        79\n",
      "\n",
      "   micro avg       0.97      0.97      0.97       226\n",
      "   macro avg       0.96      0.97      0.97       226\n",
      "weighted avg       0.97      0.97      0.97       226\n",
      "\n"
     ]
    }
   ],
   "source": [
    "print(classification_report(loadC.partition.y_test.values, preds))"
   ]
  }
 ],
 "metadata": {
  "kernelspec": {
   "display_name": "Python 3",
   "language": "python",
   "name": "python3"
  },
  "language_info": {
   "codemirror_mode": {
    "name": "ipython",
    "version": 3
   },
   "file_extension": ".py",
   "mimetype": "text/x-python",
   "name": "python",
   "nbconvert_exporter": "python",
   "pygments_lexer": "ipython3",
   "version": "3.6.5"
  }
 },
 "nbformat": 4,
 "nbformat_minor": 2
}
