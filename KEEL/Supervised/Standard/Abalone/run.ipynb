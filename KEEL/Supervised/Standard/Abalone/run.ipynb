{
 "cells": [
  {
   "cell_type": "code",
   "execution_count": 1,
   "metadata": {},
   "outputs": [],
   "source": [
    "from Helper.Load.load import Base_Load\n",
    "from Helper.Load.supervised import Supervised\n",
    "from Helper.Load.regression import Regression\n",
    "from Helper.Load.classification import Classification\n",
    "from Helper.Visual.Visual import Visual\n",
    "from Helper.Visual.classification import VClassification\n",
    "from Helper.Transform.classification import Classificaton_Transform\n",
    "\n",
    "import numpy as n\n",
    "import matplotlib.pyplot as plt"
   ]
  },
  {
   "cell_type": "code",
   "execution_count": 2,
   "metadata": {},
   "outputs": [],
   "source": [
    "loadC = Classification(\"Data\", \"abalone.dat\", \"abalone_names.txt\")\n",
    "transformC = Classificaton_Transform(loadC)"
   ]
  },
  {
   "cell_type": "code",
   "execution_count": 3,
   "metadata": {},
   "outputs": [
    {
     "data": {
      "text/plain": [
       "{'Sex': {'name': 'Sex',\n",
       "  'abstraction': 'Nominal',\n",
       "  'selector': 'Text',\n",
       "  'bounds': '{M,F,I}'},\n",
       " 'Length': {'name': 'Length',\n",
       "  'abstraction': 'Continuous',\n",
       "  'selector': 'Number',\n",
       "  'bounds': '[0.075,0.815]'},\n",
       " 'Diameter': {'name': 'Diameter',\n",
       "  'abstraction': 'Continuous',\n",
       "  'selector': 'Number',\n",
       "  'bounds': '[0.055,0.65]'},\n",
       " 'Height': {'name': 'Height',\n",
       "  'abstraction': 'Continuous',\n",
       "  'selector': 'Number',\n",
       "  'bounds': '[0.0,1.13]'},\n",
       " 'Whole_weight': {'name': 'Whole_weight',\n",
       "  'abstraction': 'Continuous',\n",
       "  'selector': 'Number',\n",
       "  'bounds': '[0.0020,2.8255]'},\n",
       " 'Shucked_weight': {'name': 'Shucked_weight',\n",
       "  'abstraction': 'Continuous',\n",
       "  'selector': 'Number',\n",
       "  'bounds': '[0.0010,1.488]'},\n",
       " 'Viscera_weight': {'name': 'Viscera_weight',\n",
       "  'abstraction': 'Continuous',\n",
       "  'selector': 'Number',\n",
       "  'bounds': '[0.0005,0.76]'},\n",
       " 'Shell_weight': {'name': 'Shell_weight',\n",
       "  'abstraction': 'Continuous',\n",
       "  'selector': 'Number',\n",
       "  'bounds': '[0.0015,1.005]'},\n",
       " 'Rings': {'name': 'Rings',\n",
       "  'abstraction': 'Nominal',\n",
       "  'selector': 'Number',\n",
       "  'bounds': '{15,7,9,10,8,20,16,19,14,11,12,18,13,5,4,6,21,17,22,1,3,26,23,29,2,27,25,24}'}}"
      ]
     },
     "execution_count": 3,
     "metadata": {},
     "output_type": "execute_result"
    }
   ],
   "source": [
    "loadC.attribute_dictionary()"
   ]
  },
  {
   "cell_type": "code",
   "execution_count": 4,
   "metadata": {},
   "outputs": [
    {
     "data": {
      "text/plain": [
       "[['@attribute', 'Sex', 'Nominal', 'Text', '{M,F,I}'],\n",
       " ['@attribute', 'Length', 'Continuous', 'Number', '[0.075,0.815]'],\n",
       " ['@attribute', 'Diameter', 'Continuous', 'Number', '[0.055,0.65]'],\n",
       " ['@attribute', 'Height', 'Continuous', 'Number', '[0.0,1.13]'],\n",
       " ['@attribute', 'Whole_weight', 'Continuous', 'Number', '[0.0020,2.8255]'],\n",
       " ['@attribute', 'Shucked_weight', 'Continuous', 'Number', '[0.0010,1.488]'],\n",
       " ['@attribute', 'Viscera_weight', 'Continuous', 'Number', '[0.0005,0.76]'],\n",
       " ['@attribute', 'Shell_weight', 'Continuous', 'Number', '[0.0015,1.005]'],\n",
       " ['@attribute',\n",
       "  'Rings',\n",
       "  'Nominal',\n",
       "  'Number',\n",
       "  '{15,7,9,10,8,20,16,19,14,11,12,18,13,5,4,6,21,17,22,1,3,26,23,29,2,27,25,24}']]"
      ]
     },
     "execution_count": 4,
     "metadata": {},
     "output_type": "execute_result"
    }
   ],
   "source": [
    "transformC.attributes"
   ]
  },
  {
   "cell_type": "code",
   "execution_count": 5,
   "metadata": {},
   "outputs": [
    {
     "data": {
      "text/html": [
       "<div>\n",
       "<style scoped>\n",
       "    .dataframe tbody tr th:only-of-type {\n",
       "        vertical-align: middle;\n",
       "    }\n",
       "\n",
       "    .dataframe tbody tr th {\n",
       "        vertical-align: top;\n",
       "    }\n",
       "\n",
       "    .dataframe thead th {\n",
       "        text-align: right;\n",
       "    }\n",
       "</style>\n",
       "<table border=\"1\" class=\"dataframe\">\n",
       "  <thead>\n",
       "    <tr style=\"text-align: right;\">\n",
       "      <th></th>\n",
       "      <th>Sex</th>\n",
       "      <th>Length</th>\n",
       "      <th>Diameter</th>\n",
       "      <th>Height</th>\n",
       "      <th>Whole_weight</th>\n",
       "      <th>Shucked_weight</th>\n",
       "      <th>Viscera_weight</th>\n",
       "      <th>Shell_weight</th>\n",
       "    </tr>\n",
       "  </thead>\n",
       "  <tbody>\n",
       "    <tr>\n",
       "      <th>2390</th>\n",
       "      <td>0</td>\n",
       "      <td>0.545</td>\n",
       "      <td>0.420</td>\n",
       "      <td>0.145</td>\n",
       "      <td>0.7780</td>\n",
       "      <td>0.3745</td>\n",
       "      <td>0.1545</td>\n",
       "      <td>0.205</td>\n",
       "    </tr>\n",
       "    <tr>\n",
       "      <th>1769</th>\n",
       "      <td>0</td>\n",
       "      <td>0.690</td>\n",
       "      <td>0.550</td>\n",
       "      <td>0.180</td>\n",
       "      <td>1.6915</td>\n",
       "      <td>0.6655</td>\n",
       "      <td>0.4020</td>\n",
       "      <td>0.500</td>\n",
       "    </tr>\n",
       "    <tr>\n",
       "      <th>2045</th>\n",
       "      <td>2</td>\n",
       "      <td>0.435</td>\n",
       "      <td>0.345</td>\n",
       "      <td>0.120</td>\n",
       "      <td>0.4475</td>\n",
       "      <td>0.2210</td>\n",
       "      <td>0.1120</td>\n",
       "      <td>0.125</td>\n",
       "    </tr>\n",
       "    <tr>\n",
       "      <th>1398</th>\n",
       "      <td>2</td>\n",
       "      <td>0.380</td>\n",
       "      <td>0.285</td>\n",
       "      <td>0.095</td>\n",
       "      <td>0.2430</td>\n",
       "      <td>0.0895</td>\n",
       "      <td>0.0665</td>\n",
       "      <td>0.075</td>\n",
       "    </tr>\n",
       "    <tr>\n",
       "      <th>3078</th>\n",
       "      <td>1</td>\n",
       "      <td>0.490</td>\n",
       "      <td>0.370</td>\n",
       "      <td>0.105</td>\n",
       "      <td>0.5265</td>\n",
       "      <td>0.2490</td>\n",
       "      <td>0.1005</td>\n",
       "      <td>0.148</td>\n",
       "    </tr>\n",
       "  </tbody>\n",
       "</table>\n",
       "</div>"
      ],
      "text/plain": [
       "      Sex  Length  Diameter  Height  Whole_weight  Shucked_weight  \\\n",
       "2390    0   0.545     0.420   0.145        0.7780          0.3745   \n",
       "1769    0   0.690     0.550   0.180        1.6915          0.6655   \n",
       "2045    2   0.435     0.345   0.120        0.4475          0.2210   \n",
       "1398    2   0.380     0.285   0.095        0.2430          0.0895   \n",
       "3078    1   0.490     0.370   0.105        0.5265          0.2490   \n",
       "\n",
       "      Viscera_weight  Shell_weight  \n",
       "2390          0.1545         0.205  \n",
       "1769          0.4020         0.500  \n",
       "2045          0.1120         0.125  \n",
       "1398          0.0665         0.075  \n",
       "3078          0.1005         0.148  "
      ]
     },
     "execution_count": 5,
     "metadata": {},
     "output_type": "execute_result"
    }
   ],
   "source": [
    "loadC.partition.X_train.head()"
   ]
  },
  {
   "cell_type": "code",
   "execution_count": null,
   "metadata": {},
   "outputs": [],
   "source": []
  }
 ],
 "metadata": {
  "kernelspec": {
   "display_name": "Python 3",
   "language": "python",
   "name": "python3"
  },
  "language_info": {
   "codemirror_mode": {
    "name": "ipython",
    "version": 3
   },
   "file_extension": ".py",
   "mimetype": "text/x-python",
   "name": "python",
   "nbconvert_exporter": "python",
   "pygments_lexer": "ipython3",
   "version": "3.6.5"
  }
 },
 "nbformat": 4,
 "nbformat_minor": 2
}
